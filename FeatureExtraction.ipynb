{
  "nbformat": 4,
  "nbformat_minor": 0,
  "metadata": {
    "colab": {
      "provenance": [],
      "gpuType": "V28",
      "authorship_tag": "ABX9TyMPlvh2eV0EpJwBuZGqpMNB",
      "include_colab_link": true
    },
    "kernelspec": {
      "name": "python3",
      "display_name": "Python 3"
    },
    "language_info": {
      "name": "python"
    },
    "accelerator": "TPU"
  },
  "cells": [
    {
      "cell_type": "markdown",
      "metadata": {
        "id": "view-in-github",
        "colab_type": "text"
      },
      "source": [
        "<a href=\"https://colab.research.google.com/github/IrinaOltean14/Research/blob/main/FeatureExtraction.ipynb\" target=\"_parent\"><img src=\"https://colab.research.google.com/assets/colab-badge.svg\" alt=\"Open In Colab\"/></a>"
      ]
    },
    {
      "cell_type": "code",
      "execution_count": 1,
      "metadata": {
        "colab": {
          "base_uri": "https://localhost:8080/"
        },
        "id": "LxX5cQ5qWV59",
        "outputId": "9fdf186a-d73d-4211-f140-31776d83e655"
      },
      "outputs": [
        {
          "output_type": "stream",
          "name": "stdout",
          "text": [
            "Mounted at /content/drive\n"
          ]
        }
      ],
      "source": [
        "# mount google drive\n",
        "from google.colab import drive\n",
        "drive.mount('/content/drive')"
      ]
    },
    {
      "cell_type": "code",
      "source": [
        "import os\n",
        "import pandas as pd\n",
        "import time\n",
        "import torch\n",
        "import torchvision\n",
        "import torch.nn.functional as F\n",
        "from torchvision import transforms\n",
        "from PIL import Image\n",
        "from torch.utils.data import Dataset, DataLoader\n",
        "from sklearn.preprocessing import LabelEncoder\n",
        "import numpy as np\n",
        "import matplotlib.pyplot as plt\n",
        "from torchvision import datasets, models, transforms"
      ],
      "metadata": {
        "id": "LRngte-IW7hP"
      },
      "execution_count": 2,
      "outputs": []
    },
    {
      "cell_type": "code",
      "source": [
        "images_folder_path = '/content/drive/MyDrive/SemArt/Images'\n",
        "train_csv_path = '/content/drive/MyDrive/SemArt/semart_train.csv'\n",
        "val_csv_path = '/content/drive/MyDrive/SemArt/semart_val.csv'\n",
        "test_csv_path = '/content/drive/MyDrive/SemArt/semart_test.csv'"
      ],
      "metadata": {
        "id": "feJGwIaRW80s"
      },
      "execution_count": 3,
      "outputs": []
    },
    {
      "cell_type": "code",
      "source": [
        "def load_csv(csv_path, images_folder_path):\n",
        "    df = pd.read_csv(csv_path, sep='\\t', encoding='ISO-8859-1')\n",
        "    # Create the full image path\n",
        "    df['image_path'] = df['IMAGE_FILE'].apply(lambda x: os.path.join(images_folder_path, x))\n",
        "    return df[['image_path', 'SCHOOL', 'TYPE']]\n",
        "\n",
        "train_df = load_csv(train_csv_path, images_folder_path)\n",
        "val_df = load_csv(val_csv_path, images_folder_path)\n",
        "test_df = load_csv(test_csv_path, images_folder_path)"
      ],
      "metadata": {
        "id": "XoByfAtCXepe"
      },
      "execution_count": 4,
      "outputs": []
    },
    {
      "cell_type": "code",
      "source": [
        "school_encoder = LabelEncoder()\n",
        "type_encoder = LabelEncoder()\n",
        "\n",
        "train_df['SCHOOL'] = school_encoder.fit_transform(train_df['SCHOOL'])\n",
        "train_df['TYPE'] = type_encoder.fit_transform(train_df['TYPE'])\n",
        "val_df['SCHOOL'] = school_encoder.fit_transform(val_df['SCHOOL'])\n",
        "val_df['TYPE'] = type_encoder.fit_transform(val_df['TYPE'])\n",
        "test_df['SCHOOL'] = school_encoder.fit_transform(test_df['SCHOOL'])\n",
        "test_df['TYPE'] = type_encoder.fit_transform(test_df['TYPE'])"
      ],
      "metadata": {
        "id": "71HT1_nWXl4V"
      },
      "execution_count": 33,
      "outputs": []
    },
    {
      "cell_type": "code",
      "source": [
        "num_classes_school = len(school_encoder.classes_)\n",
        "num_classes_type = len(type_encoder.classes_)\n",
        "\n",
        "print(f\"Number of classes for SCHOOL: {num_classes_school}\")\n",
        "print(f\"Number of classes for TYPE: {num_classes_type}\")\n",
        "print(train_df.head())"
      ],
      "metadata": {
        "colab": {
          "base_uri": "https://localhost:8080/"
        },
        "id": "PntURltrXwsU",
        "outputId": "80d1ae40-e275-420c-9efc-e45e15a1288a"
      },
      "execution_count": 6,
      "outputs": [
        {
          "output_type": "stream",
          "name": "stdout",
          "text": [
            "Number of classes for SCHOOL: 26\n",
            "Number of classes for TYPE: 10\n",
            "                                          image_path  SCHOOL  TYPE\n",
            "0  /content/drive/MyDrive/SemArt/Images/19873-1da...      11     7\n",
            "1  /content/drive/MyDrive/SemArt/Images/18759-gua...      15     3\n",
            "2  /content/drive/MyDrive/SemArt/Images/04589-tem...      15     7\n",
            "3  /content/drive/MyDrive/SemArt/Images/15104-mag...      16     7\n",
            "4  /content/drive/MyDrive/SemArt/Images/36582-pao...       6     5\n"
          ]
        }
      ]
    },
    {
      "cell_type": "code",
      "source": [
        "IMG_SIZE = (224, 224)\n",
        "\n",
        "train_transforms = transforms.Compose([\n",
        "    transforms.Resize(IMG_SIZE),\n",
        "    transforms.RandomHorizontalFlip(),\n",
        "    transforms.ToTensor(),\n",
        "    transforms.Normalize([0.485, 0.456, 0.406], [0.229, 0.224, 0.225]),\n",
        "])\n",
        "\n",
        "val_test_transforms = transforms.Compose([\n",
        "    transforms.Resize(256),\n",
        "    transforms.CenterCrop(224),\n",
        "    transforms.ToTensor(),\n",
        "    transforms.Normalize([0.485, 0.456, 0.406], [0.229, 0.224, 0.225]),\n",
        "])"
      ],
      "metadata": {
        "id": "Nf62Ra7rX2Bl"
      },
      "execution_count": 7,
      "outputs": []
    },
    {
      "cell_type": "code",
      "source": [
        "class SEMARTDataset(Dataset):\n",
        "    def __init__(self, dataframe, transform=None):\n",
        "        self.dataframe = dataframe\n",
        "        self.transform = transform\n",
        "\n",
        "    def __len__(self):\n",
        "        return len(self.dataframe)\n",
        "\n",
        "    def __getitem__(self, idx):\n",
        "        img_path = self.dataframe.iloc[idx]['image_path']\n",
        "        image = Image.open(img_path).convert(\"RGB\")\n",
        "\n",
        "        if self.transform:\n",
        "            image = self.transform(image)\n",
        "\n",
        "        school_label = self.dataframe.iloc[idx]['SCHOOL']\n",
        "        type_label = self.dataframe.iloc[idx]['TYPE']\n",
        "\n",
        "        return image, torch.tensor(school_label, dtype=torch.long), torch.tensor(type_label, dtype=torch.long)"
      ],
      "metadata": {
        "id": "iUa_fnEuYieV"
      },
      "execution_count": 8,
      "outputs": []
    },
    {
      "cell_type": "code",
      "source": [
        "# Create dataset instances\n",
        "train_dataset = SEMARTDataset(train_df, transform=train_transforms)\n",
        "val_dataset = SEMARTDataset(val_df, transform=val_test_transforms)\n",
        "test_dataset = SEMARTDataset(test_df, transform=val_test_transforms)\n",
        "\n",
        "# Create DataLoader instances\n",
        "batch_size = 32\n",
        "train_loader = DataLoader(train_dataset, batch_size=batch_size, shuffle=True, num_workers=8)\n",
        "val_loader = DataLoader(val_dataset, batch_size=batch_size, shuffle=False, num_workers=8)\n",
        "test_loader = DataLoader(test_dataset, batch_size=batch_size, shuffle=False, num_workers=8)"
      ],
      "metadata": {
        "id": "Cm0Wbx0gY5RT"
      },
      "execution_count": 21,
      "outputs": []
    },
    {
      "cell_type": "code",
      "source": [
        "print(train_dataset)"
      ],
      "metadata": {
        "colab": {
          "base_uri": "https://localhost:8080/"
        },
        "id": "CmP5n_PEyvxX",
        "outputId": "0d77585f-62e1-41f7-f885-3ec2b91999bf"
      },
      "execution_count": 10,
      "outputs": [
        {
          "output_type": "stream",
          "name": "stdout",
          "text": [
            "<__main__.SEMARTDataset object at 0x7d086381b010>\n"
          ]
        }
      ]
    },
    {
      "cell_type": "code",
      "source": [
        "def imshow(inp, school_labels=None, type_labels=None):\n",
        "    \"\"\"Display images in a grid with school and type labels.\"\"\"\n",
        "    inp = inp.numpy().transpose((1, 2, 0))  # Convert tensor to HWC for display\n",
        "    mean = np.array([0.485, 0.456, 0.406])\n",
        "    std = np.array([0.229, 0.224, 0.225])\n",
        "    inp = std * inp + mean  # Reverse normalization\n",
        "    inp = np.clip(inp, 0, 1)  # Clip values to be between 0 and 1\n",
        "    plt.imshow(inp)\n",
        "\n",
        "    # Display labels if provided\n",
        "    if school_labels and type_labels:\n",
        "        plt.title(f\"SCHOOL: {school_labels}\\nTYPE: {type_labels}\")\n",
        "\n",
        "    plt.pause(0.001)  # Pause to update plot\n",
        "    plt.show()\n",
        "\n",
        "\n",
        "# Get a batch of training data\n",
        "images, school_labels, type_labels = next(iter(train_loader))\n",
        "\n",
        "# Select the first 5 images and their labels\n",
        "images = images[:5]\n",
        "school_labels = school_labels[:5]\n",
        "type_labels = type_labels[:5]\n",
        "\n",
        "# Make a grid from the 5 selected images\n",
        "out = torchvision.utils.make_grid(images, nrow=5)\n",
        "\n",
        "# Decode school and type labels for the first 5 images\n",
        "school_labels_text = [school_encoder.classes_[label] for label in school_labels]\n",
        "type_labels_text = [type_encoder.classes_[label] for label in type_labels]\n",
        "\n",
        "# Display the grid of 5 images with the decoded labels\n",
        "imshow(out, school_labels=school_labels_text, type_labels=type_labels_text)"
      ],
      "metadata": {
        "colab": {
          "base_uri": "https://localhost:8080/",
          "height": 203
        },
        "id": "5ExiOzICY-yy",
        "outputId": "7c9bbc12-ac06-4d1d-96ec-fc12d8e5d264"
      },
      "execution_count": 11,
      "outputs": [
        {
          "output_type": "display_data",
          "data": {
            "text/plain": [
              "<Figure size 640x480 with 1 Axes>"
            ],
            "image/png": "[encoded data removed]"
          },
          "metadata": {}
        }
      ]
    },
    {
      "cell_type": "code",
      "source": [
        "!pip install wandb\n"
      ],
      "metadata": {
        "id": "-TMwmt91iOsu",
        "colab": {
          "base_uri": "https://localhost:8080/"
        },
        "outputId": "469c141d-f922-46c8-d598-3edbe496c1e2"
      },
      "execution_count": 12,
      "outputs": [
        {
          "output_type": "stream",
          "name": "stdout",
          "text": [
            "Collecting wandb\n",
            "  Downloading wandb-0.18.7-py3-none-manylinux_2_17_x86_64.manylinux2014_x86_64.whl.metadata (9.7 kB)\n",
            "Requirement already satisfied: click!=8.0.0,>=7.1 in /usr/local/lib/python3.10/dist-packages (from wandb) (8.1.7)\n",
            "Collecting docker-pycreds>=0.4.0 (from wandb)\n",
            "  Downloading docker_pycreds-0.4.0-py2.py3-none-any.whl.metadata (1.8 kB)\n",
            "Collecting gitpython!=3.1.29,>=1.0.0 (from wandb)\n",
            "  Downloading GitPython-3.1.43-py3-none-any.whl.metadata (13 kB)\n",
            "Requirement already satisfied: platformdirs in /usr/local/lib/python3.10/dist-packages (from wandb) (4.3.6)\n",
            "Requirement already satisfied: protobuf!=4.21.0,!=5.28.0,<6,>=3.19.0 in /usr/local/lib/python3.10/dist-packages (from wandb) (4.25.5)\n",
            "Requirement already satisfied: psutil>=5.0.0 in /usr/local/lib/python3.10/dist-packages (from wandb) (5.9.5)\n",
            "Requirement already satisfied: pyyaml in /usr/local/lib/python3.10/dist-packages (from wandb) (6.0.2)\n",
            "Requirement already satisfied: requests<3,>=2.0.0 in /usr/local/lib/python3.10/dist-packages (from wandb) (2.32.3)\n",
            "Collecting sentry-sdk>=2.0.0 (from wandb)\n",
            "  Downloading sentry_sdk-2.18.0-py2.py3-none-any.whl.metadata (9.9 kB)\n",
            "Collecting setproctitle (from wandb)\n",
            "  Downloading setproctitle-1.3.3-cp310-cp310-manylinux_2_5_x86_64.manylinux1_x86_64.manylinux_2_17_x86_64.manylinux2014_x86_64.whl.metadata (9.9 kB)\n",
            "Requirement already satisfied: setuptools in /usr/local/lib/python3.10/dist-packages (from wandb) (75.1.0)\n",
            "Requirement already satisfied: typing-extensions<5,>=4.4 in /usr/local/lib/python3.10/dist-packages (from wandb) (4.12.2)\n",
            "Requirement already satisfied: six>=1.4.0 in /usr/local/lib/python3.10/dist-packages (from docker-pycreds>=0.4.0->wandb) (1.16.0)\n",
            "Collecting gitdb<5,>=4.0.1 (from gitpython!=3.1.29,>=1.0.0->wandb)\n",
            "  Downloading gitdb-4.0.11-py3-none-any.whl.metadata (1.2 kB)\n",
            "Requirement already satisfied: charset-normalizer<4,>=2 in /usr/local/lib/python3.10/dist-packages (from requests<3,>=2.0.0->wandb) (3.4.0)\n",
            "Requirement already satisfied: idna<4,>=2.5 in /usr/local/lib/python3.10/dist-packages (from requests<3,>=2.0.0->wandb) (3.10)\n",
            "Requirement already satisfied: urllib3<3,>=1.21.1 in /usr/local/lib/python3.10/dist-packages (from requests<3,>=2.0.0->wandb) (2.2.3)\n",
            "Requirement already satisfied: certifi>=2017.4.17 in /usr/local/lib/python3.10/dist-packages (from requests<3,>=2.0.0->wandb) (2024.8.30)\n",
            "Collecting smmap<6,>=3.0.1 (from gitdb<5,>=4.0.1->gitpython!=3.1.29,>=1.0.0->wandb)\n",
            "  Downloading smmap-5.0.1-py3-none-any.whl.metadata (4.3 kB)\n",
            "Downloading wandb-0.18.7-py3-none-manylinux_2_17_x86_64.manylinux2014_x86_64.whl (16.1 MB)\n",
            "\u001b[2K   \u001b[90m━━━━━━━━━━━━━━━━━━━━━━━━━━━━━━━━━━━━━━━━\u001b[0m \u001b[32m16.1/16.1 MB\u001b[0m \u001b[31m103.1 MB/s\u001b[0m eta \u001b[36m0:00:00\u001b[0m\n",
            "\u001b[?25hDownloading docker_pycreds-0.4.0-py2.py3-none-any.whl (9.0 kB)\n",
            "Downloading GitPython-3.1.43-py3-none-any.whl (207 kB)\n",
            "\u001b[2K   \u001b[90m━━━━━━━━━━━━━━━━━━━━━━━━━━━━━━━━━━━━━━━━\u001b[0m \u001b[32m207.3/207.3 kB\u001b[0m \u001b[31m15.5 MB/s\u001b[0m eta \u001b[36m0:00:00\u001b[0m\n",
            "\u001b[?25hDownloading sentry_sdk-2.18.0-py2.py3-none-any.whl (317 kB)\n",
            "\u001b[2K   \u001b[90m━━━━━━━━━━━━━━━━━━━━━━━━━━━━━━━━━━━━━━━━\u001b[0m \u001b[32m317.5/317.5 kB\u001b[0m \u001b[31m23.0 MB/s\u001b[0m eta \u001b[36m0:00:00\u001b[0m\n",
            "\u001b[?25hDownloading setproctitle-1.3.3-cp310-cp310-manylinux_2_5_x86_64.manylinux1_x86_64.manylinux_2_17_x86_64.manylinux2014_x86_64.whl (30 kB)\n",
            "Downloading gitdb-4.0.11-py3-none-any.whl (62 kB)\n",
            "\u001b[2K   \u001b[90m━━━━━━━━━━━━━━━━━━━━━━━━━━━━━━━━━━━━━━━━\u001b[0m \u001b[32m62.7/62.7 kB\u001b[0m \u001b[31m5.6 MB/s\u001b[0m eta \u001b[36m0:00:00\u001b[0m\n",
            "\u001b[?25hDownloading smmap-5.0.1-py3-none-any.whl (24 kB)\n",
            "Installing collected packages: smmap, setproctitle, sentry-sdk, docker-pycreds, gitdb, gitpython, wandb\n",
            "Successfully installed docker-pycreds-0.4.0 gitdb-4.0.11 gitpython-3.1.43 sentry-sdk-2.18.0 setproctitle-1.3.3 smmap-5.0.1 wandb-0.18.7\n"
          ]
        }
      ]
    },
    {
      "cell_type": "code",
      "source": [
        "import wandb\n",
        "wandb.login()"
      ],
      "metadata": {
        "colab": {
          "base_uri": "https://localhost:8080/",
          "height": 138
        },
        "id": "wtuF944di1OL",
        "outputId": "f071331a-e28d-42f4-bb39-dee2c0a22b84"
      },
      "execution_count": 13,
      "outputs": [
        {
          "output_type": "stream",
          "name": "stderr",
          "text": [
            "\u001b[34m\u001b[1mwandb\u001b[0m: Using wandb-core as the SDK backend.  Please refer to https://wandb.me/wandb-core for more information.\n"
          ]
        },
        {
          "output_type": "display_data",
          "data": {
            "text/plain": [
              "<IPython.core.display.Javascript object>"
            ],
            "application/javascript": [
              "\n",
              "        window._wandbApiKey = new Promise((resolve, reject) => {\n",
              "            function loadScript(url) {\n",
              "            return new Promise(function(resolve, reject) {\n",
              "                let newScript = document.createElement(\"script\");\n",
              "                newScript.onerror = reject;\n",
              "                newScript.onload = resolve;\n",
              "                document.body.appendChild(newScript);\n",
              "                newScript.src = url;\n",
              "            });\n",
              "            }\n",
              "            loadScript(\"https://cdn.jsdelivr.net/npm/postmate/build/postmate.min.js\").then(() => {\n",
              "            const iframe = document.createElement('iframe')\n",
              "            iframe.style.cssText = \"width:0;height:0;border:none\"\n",
              "            document.body.appendChild(iframe)\n",
              "            const handshake = new Postmate({\n",
              "                container: iframe,\n",
              "                url: 'https://wandb.ai/authorize'\n",
              "            });\n",
              "            const timeout = setTimeout(() => reject(\"Couldn't auto authenticate\"), 5000)\n",
              "            handshake.then(function(child) {\n",
              "                child.on('authorize', data => {\n",
              "                    clearTimeout(timeout)\n",
              "                    resolve(data)\n",
              "                });\n",
              "            });\n",
              "            })\n",
              "        });\n",
              "    "
            ]
          },
          "metadata": {}
        },
        {
          "output_type": "stream",
          "name": "stderr",
          "text": [
            "\u001b[34m\u001b[1mwandb\u001b[0m: Logging into wandb.ai. (Learn how to deploy a W&B server locally: https://wandb.me/wandb-server)\n",
            "\u001b[34m\u001b[1mwandb\u001b[0m: You can find your API key in your browser here: https://wandb.ai/authorize\n",
            "wandb: Paste an API key from your profile and hit enter, or press ctrl+c to quit:"
          ]
        },
        {
          "name": "stdout",
          "output_type": "stream",
          "text": [
            " ··········\n"
          ]
        },
        {
          "output_type": "stream",
          "name": "stderr",
          "text": [
            "\u001b[34m\u001b[1mwandb\u001b[0m: Appending key for api.wandb.ai to your netrc file: /root/.netrc\n"
          ]
        },
        {
          "output_type": "execute_result",
          "data": {
            "text/plain": [
              "True"
            ]
          },
          "metadata": {},
          "execution_count": 13
        }
      ]
    },
    {
      "cell_type": "code",
      "source": [
        "import torch\n",
        "import torch_xla\n",
        "import torch_xla.core.xla_model as xm\n",
        "\n",
        "# Set the device to TPU\n",
        "device = xm.xla_device()\n",
        "\n",
        "print(f\"Using device: {device}\")"
      ],
      "metadata": {
        "colab": {
          "base_uri": "https://localhost:8080/"
        },
        "id": "swc3i1_MkPHp",
        "outputId": "d52f46ab-fc77-464c-a5e9-1308ecc0358f"
      },
      "execution_count": 15,
      "outputs": [
        {
          "output_type": "stream",
          "name": "stderr",
          "text": [
            "/usr/local/lib/python3.10/dist-packages/torch_xla/__init__.py:253: UserWarning: `tensorflow` can conflict with `torch-xla`. Prefer `tensorflow-cpu` when using PyTorch/XLA. To silence this warning, `pip uninstall -y tensorflow && pip install tensorflow-cpu`. If you are in a notebook environment such as Colab or Kaggle, restart your notebook runtime afterwards.\n",
            "  warnings.warn(\n"
          ]
        },
        {
          "output_type": "stream",
          "name": "stdout",
          "text": [
            "Using device: xla:0\n"
          ]
        }
      ]
    },
    {
      "cell_type": "code",
      "source": [
        "from tqdm import tqdm\n",
        "\n",
        "def train_model_multi_task(model, criterion_task1, criterion_task2, optimizer, scheduler, dataloaders, dataset_sizes, num_epochs=25, checkpoint_path=\"drive/MyDrive/model_checkpointsFe\", alpha=0.5, beta=0.5, patience=5):\n",
        "    wandb.init(project=\"SemArt_TransferLearning_fe\")\n",
        "    since = time.time()\n",
        "\n",
        "    os.makedirs(checkpoint_path, exist_ok=True)\n",
        "\n",
        "    best_acc = 0.0\n",
        "    start_epoch = 0\n",
        "\n",
        "    checkpoint_file = os.path.join(checkpoint_path, 'checkpoint.pth')\n",
        "    best_model_wts = model.state_dict()\n",
        "    best_loss = float('inf')\n",
        "    epochs_no_improve = 0\n",
        "\n",
        "\n",
        "    for epoch in range(start_epoch, num_epochs):\n",
        "        print(f\"Epoch {epoch}/{num_epochs - 1}\")\n",
        "        print('-' * 10)\n",
        "\n",
        "        wandb.log({\"epoch\": epoch})\n",
        "\n",
        "        for phase in ['train', 'val']:\n",
        "            if phase == 'train':\n",
        "                model.train()\n",
        "            else:\n",
        "                model.eval()\n",
        "\n",
        "            running_loss_task1 = 0.0\n",
        "            running_loss_task2 = 0.0\n",
        "            running_corrects_task1 = 0\n",
        "            running_corrects_task2 = 0\n",
        "\n",
        "            for inputs, labels_task1, labels_task2 in tqdm(dataloaders[phase], desc=f\"{phase} Phase\"):\n",
        "                inputs = inputs.to(device)\n",
        "                labels_task1 = labels_task1.to(device)\n",
        "                labels_task2 = labels_task2.to(device)\n",
        "\n",
        "                optimizer.zero_grad()\n",
        "\n",
        "                with torch.set_grad_enabled(phase == 'train'):\n",
        "                    task1_output, task2_output = model(inputs)\n",
        "                    # task1_output = torch.argmax(task1_preds, dim=1)\n",
        "                    # task2_output = torch.argmax(task2_preds, dim=1)\n",
        "                    # print(task1_output)\n",
        "                    # print(task2_output)\n",
        "\n",
        "                    # Compute losses for both tasks\n",
        "                    loss_task1 = criterion_task1(task1_output, labels_task1)\n",
        "                    loss_task2 = criterion_task2(task2_output, labels_task2)\n",
        "\n",
        "                    # Combine the losses (weighted sum)\n",
        "                    total_loss = alpha * loss_task1 + beta * loss_task2\n",
        "\n",
        "                    # Backward pass and optimization only in the training phase\n",
        "                    if phase == 'train':\n",
        "                        total_loss.backward()\n",
        "                        optimizer.step()\n",
        "                        xm.mark_step()  # Ensures TPU steps forward after the batch\n",
        "\n",
        "                # Update running loss and correct predictions\n",
        "                running_loss_task1 += loss_task1.item() * inputs.size(0)\n",
        "                running_loss_task2 += loss_task2.item() * inputs.size(0)\n",
        "                running_corrects_task1 += torch.sum(torch.argmax(task1_output, dim=1) == labels_task1)\n",
        "                running_corrects_task2 += torch.sum(torch.argmax(task2_output, dim=1) == labels_task2)\n",
        "\n",
        "\n",
        "            if phase == 'train':\n",
        "                scheduler.step()\n",
        "\n",
        "            # Calculate loss and accuracy for each task\n",
        "            epoch_loss_task1 = running_loss_task1 / dataset_sizes[phase]\n",
        "            epoch_loss_task2 = running_loss_task2 / dataset_sizes[phase]\n",
        "            epoch_acc_task1 = running_corrects_task1.double() / dataset_sizes[phase]\n",
        "            epoch_acc_task2 = running_corrects_task2.double() / dataset_sizes[phase]\n",
        "\n",
        "            # Combine the accuracy and loss metrics\n",
        "            combined_loss = alpha * epoch_loss_task1 + beta * epoch_loss_task2\n",
        "            combined_acc = alpha * epoch_acc_task1 + beta * epoch_acc_task2\n",
        "\n",
        "            print(f'{phase} Loss (Task1): {epoch_loss_task1:.4f} Acc (Task1): {epoch_acc_task1:.4f} Loss (Task2): {epoch_loss_task2:.4f} Acc (Task2): {epoch_acc_task2:.4f}')\n",
        "            print(f'Combined Loss: {combined_loss:.4f} Combined Accuracy: {combined_acc:.4f}')\n",
        "\n",
        "            wandb.log({\n",
        "                f\"{phase} loss (Task1)\": epoch_loss_task1,\n",
        "                f\"{phase} accuracy (Task1)\": epoch_acc_task1,\n",
        "                f\"{phase} loss (Task2)\": epoch_loss_task2,\n",
        "                f\"{phase} accuracy (Task2)\": epoch_acc_task2,\n",
        "                f\"{phase} combined loss\": combined_loss,\n",
        "                f\"{phase} combined accuracy\": combined_acc\n",
        "            })\n",
        "\n",
        "            if phase == 'val':\n",
        "                if combined_loss < best_loss:\n",
        "                    best_loss = combined_loss\n",
        "                    best_model_wts = model.state_dict()\n",
        "                    epochs_no_improve = 0  # Reset counter when improvement is found\n",
        "                    if best_acc < combined_acc:\n",
        "                        best_acc = combined_acc\n",
        "\n",
        "                    # Save best model checkpoint\n",
        "                    torch.save({\n",
        "                        'epoch': epoch,\n",
        "                        'model_state_dict': model.state_dict(),\n",
        "                        'optimizer_state_dict': optimizer.state_dict(),\n",
        "                        'scheduler_state_dict': scheduler.state_dict(),\n",
        "                        'best_acc': best_acc,\n",
        "                        'best_loss': best_loss,\n",
        "                    }, checkpoint_file)\n",
        "                else:\n",
        "                    epochs_no_improve += 1\n",
        "\n",
        "        print()\n",
        "        if epochs_no_improve >= patience:\n",
        "            print(f\"Early stopping at epoch {epoch} due to no improvement in validation loss for {patience} epochs.\")\n",
        "            break\n",
        "\n",
        "    # Load best model weights and end WandB run\n",
        "    model.load_state_dict(best_model_wts)\n",
        "    time_elapsed = time.time() - since\n",
        "    print(f'Training complete in {time_elapsed // 60:.0f}m {time_elapsed % 60:.0f}s')\n",
        "    print(f'Best combined Acc: {best_acc:4f}')\n",
        "    wandb.finish()\n",
        "\n",
        "    return model"
      ],
      "metadata": {
        "id": "mBiaHaSbjEtp"
      },
      "execution_count": 37,
      "outputs": []
    },
    {
      "cell_type": "code",
      "source": [
        "import torch.nn as nn\n",
        "import torch.optim as optim\n",
        "from torch.optim import lr_scheduler"
      ],
      "metadata": {
        "id": "SJhTmwPOoaD4"
      },
      "execution_count": 24,
      "outputs": []
    },
    {
      "cell_type": "code",
      "source": [
        "class ResNet18FeatureExtractor(nn.Module):\n",
        "    def __init__(self, num_classes_type, num_classes_school):\n",
        "        super(ResNet18FeatureExtractor, self).__init__()\n",
        "\n",
        "        # Load pre-trained ResNet18 model\n",
        "        model = torchvision.models.resnet18(weights='IMAGENET1K_V1')\n",
        "\n",
        "        # Freeze all layers except the final fully connected layers\n",
        "        for param in model.parameters():\n",
        "            param.requires_grad = False\n",
        "\n",
        "        self.features = nn.Sequential(*list(model.children())[:-1])  # Remove the final fully connected layer\n",
        "\n",
        "        # Add new fully connected layers for multi-task output\n",
        "        self.type_fc = nn.Linear(model.fc.in_features, num_classes_type)  # Output for Task 1 (type)\n",
        "        self.school_fc = nn.Linear(model.fc.in_features, num_classes_school)  # Output for Task 2 (school)\n",
        "\n",
        "    def forward(self, x):\n",
        "        x = self.features(x)\n",
        "        x = x.view(x.size(0), -1)\n",
        "\n",
        "        type_output = self.type_fc(x)\n",
        "\n",
        "        school_output = self.school_fc(x)\n",
        "\n",
        "        # # Apply softmax (if classification task)\n",
        "        # school_output = F.softmax(school_output, dim=1)\n",
        "        # type_output = F.softmax(type_output, dim=1)\n",
        "\n",
        "        # print(\"Schhol output:\", school_output)\n",
        "        # print(\"Type output:\",type_output)\n",
        "\n",
        "        return school_output, type_output\n",
        "\n",
        "model_ft = ResNet18FeatureExtractor(num_classes_type, num_classes_school)\n",
        "\n",
        "model_ft = model_ft.to(device)\n",
        "\n",
        "criterion_type = nn.CrossEntropyLoss()\n",
        "criterion_school = nn.CrossEntropyLoss()\n",
        "\n",
        "optimizer_ft = optim.SGD(list(model_ft.type_fc.parameters()) + list(model_ft.school_fc.parameters()), lr=0.001, momentum=0.9)\n",
        "\n",
        "exp_lr_scheduler = lr_scheduler.StepLR(optimizer_ft, step_size=7, gamma=0.1)\n",
        "\n",
        "dataloaders = {'train': train_loader, 'val': val_loader}\n",
        "dataset_sizes = {'train': len(train_dataset), 'val': len(val_dataset)}\n",
        "\n",
        "model_ft = train_model_multi_task(\n",
        "    model=model_ft,\n",
        "    criterion_task1=criterion_school,\n",
        "    criterion_task2=criterion_type,\n",
        "    optimizer=optimizer_ft,\n",
        "    scheduler=exp_lr_scheduler,\n",
        "    dataloaders=dataloaders,\n",
        "    dataset_sizes=dataset_sizes,\n",
        "    num_epochs=10,\n",
        "    checkpoint_path=\"drive/MyDrive/model_checkpointsFe\",\n",
        "    alpha=0.5,\n",
        "    beta=0.5\n",
        ")"
      ],
      "metadata": {
        "colab": {
          "base_uri": "https://localhost:8080/",
          "height": 1000
        },
        "id": "vwVaRxdrod4u",
        "outputId": "281c3a93-e71b-4447-80c3-5c44902586c3"
      },
      "execution_count": 39,
      "outputs": [
        {
          "output_type": "display_data",
          "data": {
            "text/plain": [
              "<IPython.core.display.HTML object>"
            ],
            "text/html": [
              "Finishing last run (ID:69pz6ogx) before initializing another..."
            ]
          },
          "metadata": {}
        },
        {
          "output_type": "display_data",
          "data": {
            "text/plain": [
              "<IPython.core.display.HTML object>"
            ],
            "text/html": [
              "\n",
              "    <style>\n",
              "        .wandb-row {\n",
              "            display: flex;\n",
              "            flex-direction: row;\n",
              "            flex-wrap: wrap;\n",
              "            justify-content: flex-start;\n",
              "            width: 100%;\n",
              "        }\n",
              "        .wandb-col {\n",
              "            display: flex;\n",
              "            flex-direction: column;\n",
              "            flex-basis: 100%;\n",
              "            flex: 1;\n",
              "            padding: 10px;\n",
              "        }\n",
              "    </style>\n",
              "<div class=\"wandb-row\"><div class=\"wandb-col\"><h3>Run history:</h3><br/><table class=\"wandb\"><tr><td>epoch</td><td>▁</td></tr></table><br/></div><div class=\"wandb-col\"><h3>Run summary:</h3><br/><table class=\"wandb\"><tr><td>epoch</td><td>0</td></tr></table><br/></div></div>"
            ]
          },
          "metadata": {}
        },
        {
          "output_type": "display_data",
          "data": {
            "text/plain": [
              "<IPython.core.display.HTML object>"
            ],
            "text/html": [
              " View run <strong style=\"color:#cdcd00\">fresh-energy-1</strong> at: <a href='https://wandb.ai/olteanirina1-babes-bolyai-university/SemArt_TransferLearning_fe/runs/69pz6ogx' target=\"_blank\">https://wandb.ai/olteanirina1-babes-bolyai-university/SemArt_TransferLearning_fe/runs/69pz6ogx</a><br/> View project at: <a href='https://wandb.ai/olteanirina1-babes-bolyai-university/SemArt_TransferLearning_fe' target=\"_blank\">https://wandb.ai/olteanirina1-babes-bolyai-university/SemArt_TransferLearning_fe</a><br/>Synced 5 W&B file(s), 0 media file(s), 0 artifact file(s) and 0 other file(s)"
            ]
          },
          "metadata": {}
        },
        {
          "output_type": "display_data",
          "data": {
            "text/plain": [
              "<IPython.core.display.HTML object>"
            ],
            "text/html": [
              "Find logs at: <code>./wandb/run-20241114_184838-69pz6ogx/logs</code>"
            ]
          },
          "metadata": {}
        },
        {
          "output_type": "display_data",
          "data": {
            "text/plain": [
              "<IPython.core.display.HTML object>"
            ],
            "text/html": [
              "Successfully finished last run (ID:69pz6ogx). Initializing new run:<br/>"
            ]
          },
          "metadata": {}
        },
        {
          "output_type": "display_data",
          "data": {
            "text/plain": [
              "<IPython.core.display.HTML object>"
            ],
            "text/html": [
              "Tracking run with wandb version 0.18.7"
            ]
          },
          "metadata": {}
        },
        {
          "output_type": "display_data",
          "data": {
            "text/plain": [
              "<IPython.core.display.HTML object>"
            ],
            "text/html": [
              "Run data is saved locally in <code>/content/wandb/run-20241114_184907-1wwji6s4</code>"
            ]
          },
          "metadata": {}
        },
        {
          "output_type": "display_data",
          "data": {
            "text/plain": [
              "<IPython.core.display.HTML object>"
            ],
            "text/html": [
              "Syncing run <strong><a href='https://wandb.ai/olteanirina1-babes-bolyai-university/SemArt_TransferLearning_fe/runs/1wwji6s4' target=\"_blank\">devout-shape-2</a></strong> to <a href='https://wandb.ai/olteanirina1-babes-bolyai-university/SemArt_TransferLearning_fe' target=\"_blank\">Weights & Biases</a> (<a href='https://wandb.me/developer-guide' target=\"_blank\">docs</a>)<br/>"
            ]
          },
          "metadata": {}
        },
        {
          "output_type": "display_data",
          "data": {
            "text/plain": [
              "<IPython.core.display.HTML object>"
            ],
            "text/html": [
              " View project at <a href='https://wandb.ai/olteanirina1-babes-bolyai-university/SemArt_TransferLearning_fe' target=\"_blank\">https://wandb.ai/olteanirina1-babes-bolyai-university/SemArt_TransferLearning_fe</a>"
            ]
          },
          "metadata": {}
        },
        {
          "output_type": "display_data",
          "data": {
            "text/plain": [
              "<IPython.core.display.HTML object>"
            ],
            "text/html": [
              " View run at <a href='https://wandb.ai/olteanirina1-babes-bolyai-university/SemArt_TransferLearning_fe/runs/1wwji6s4' target=\"_blank\">https://wandb.ai/olteanirina1-babes-bolyai-university/SemArt_TransferLearning_fe/runs/1wwji6s4</a>"
            ]
          },
          "metadata": {}
        },
        {
          "output_type": "stream",
          "name": "stdout",
          "text": [
            "Epoch 0/9\n",
            "----------\n"
          ]
        },
        {
          "output_type": "stream",
          "name": "stderr",
          "text": [
            "train Phase: 100%|██████████| 602/602 [02:18<00:00,  4.36it/s]\n"
          ]
        },
        {
          "output_type": "stream",
          "name": "stdout",
          "text": [
            "train Loss (Task1): 1.7946 Acc (Task1): 0.4447 Loss (Task2): 1.2459 Acc (Task2): 0.6071\n",
            "Combined Loss: 1.5203 Combined Accuracy: 0.5259\n"
          ]
        },
        {
          "output_type": "stream",
          "name": "stderr",
          "text": [
            "val Phase: 100%|██████████| 34/34 [00:07<00:00,  4.32it/s]\n"
          ]
        },
        {
          "output_type": "stream",
          "name": "stdout",
          "text": [
            "val Loss (Task1): 4.7170 Acc (Task1): 0.0309 Loss (Task2): 1.0851 Acc (Task2): 0.6473\n",
            "Combined Loss: 2.9010 Combined Accuracy: 0.3391\n",
            "\n",
            "Epoch 1/9\n",
            "----------\n"
          ]
        },
        {
          "output_type": "stream",
          "name": "stderr",
          "text": [
            "train Phase: 100%|██████████| 602/602 [02:18<00:00,  4.36it/s]\n"
          ]
        },
        {
          "output_type": "stream",
          "name": "stdout",
          "text": [
            "train Loss (Task1): 1.6539 Acc (Task1): 0.4847 Loss (Task2): 1.0261 Acc (Task2): 0.6682\n",
            "Combined Loss: 1.3400 Combined Accuracy: 0.5765\n"
          ]
        },
        {
          "output_type": "stream",
          "name": "stderr",
          "text": [
            "val Phase: 100%|██████████| 34/34 [00:08<00:00,  4.05it/s]\n"
          ]
        },
        {
          "output_type": "stream",
          "name": "stdout",
          "text": [
            "val Loss (Task1): 4.5430 Acc (Task1): 0.0505 Loss (Task2): 1.0017 Acc (Task2): 0.6726\n",
            "Combined Loss: 2.7723 Combined Accuracy: 0.3616\n",
            "\n",
            "Epoch 2/9\n",
            "----------\n"
          ]
        },
        {
          "output_type": "stream",
          "name": "stderr",
          "text": [
            "train Phase: 100%|██████████| 602/602 [02:17<00:00,  4.39it/s]\n"
          ]
        },
        {
          "output_type": "stream",
          "name": "stdout",
          "text": [
            "train Loss (Task1): 1.6090 Acc (Task1): 0.4930 Loss (Task2): 0.9836 Acc (Task2): 0.6782\n",
            "Combined Loss: 1.2963 Combined Accuracy: 0.5856\n"
          ]
        },
        {
          "output_type": "stream",
          "name": "stderr",
          "text": [
            "val Phase: 100%|██████████| 34/34 [00:08<00:00,  4.17it/s]\n"
          ]
        },
        {
          "output_type": "stream",
          "name": "stdout",
          "text": [
            "val Loss (Task1): 4.6119 Acc (Task1): 0.0702 Loss (Task2): 0.9871 Acc (Task2): 0.6782\n",
            "Combined Loss: 2.7995 Combined Accuracy: 0.3742\n",
            "\n",
            "Epoch 3/9\n",
            "----------\n"
          ]
        },
        {
          "output_type": "stream",
          "name": "stderr",
          "text": [
            "train Phase: 100%|██████████| 602/602 [02:17<00:00,  4.37it/s]\n"
          ]
        },
        {
          "output_type": "stream",
          "name": "stdout",
          "text": [
            "train Loss (Task1): 1.5844 Acc (Task1): 0.5030 Loss (Task2): 0.9564 Acc (Task2): 0.6877\n",
            "Combined Loss: 1.2704 Combined Accuracy: 0.5953\n"
          ]
        },
        {
          "output_type": "stream",
          "name": "stderr",
          "text": [
            "val Phase: 100%|██████████| 34/34 [00:07<00:00,  4.34it/s]\n"
          ]
        },
        {
          "output_type": "stream",
          "name": "stdout",
          "text": [
            "val Loss (Task1): 4.6647 Acc (Task1): 0.0767 Loss (Task2): 0.9746 Acc (Task2): 0.6838\n",
            "Combined Loss: 2.8197 Combined Accuracy: 0.3803\n",
            "\n",
            "Epoch 4/9\n",
            "----------\n"
          ]
        },
        {
          "output_type": "stream",
          "name": "stderr",
          "text": [
            "train Phase: 100%|██████████| 602/602 [02:18<00:00,  4.35it/s]\n"
          ]
        },
        {
          "output_type": "stream",
          "name": "stdout",
          "text": [
            "train Loss (Task1): 1.5579 Acc (Task1): 0.5109 Loss (Task2): 0.9399 Acc (Task2): 0.6925\n",
            "Combined Loss: 1.2489 Combined Accuracy: 0.6017\n"
          ]
        },
        {
          "output_type": "stream",
          "name": "stderr",
          "text": [
            "val Phase: 100%|██████████| 34/34 [00:08<00:00,  4.13it/s]\n"
          ]
        },
        {
          "output_type": "stream",
          "name": "stdout",
          "text": [
            "val Loss (Task1): 4.8889 Acc (Task1): 0.0580 Loss (Task2): 0.9496 Acc (Task2): 0.6969\n",
            "Combined Loss: 2.9192 Combined Accuracy: 0.3775\n",
            "\n",
            "Epoch 5/9\n",
            "----------\n"
          ]
        },
        {
          "output_type": "stream",
          "name": "stderr",
          "text": [
            "train Phase: 100%|██████████| 602/602 [02:18<00:00,  4.35it/s]\n"
          ]
        },
        {
          "output_type": "stream",
          "name": "stdout",
          "text": [
            "train Loss (Task1): 1.5462 Acc (Task1): 0.5142 Loss (Task2): 0.9310 Acc (Task2): 0.6919\n",
            "Combined Loss: 1.2386 Combined Accuracy: 0.6030\n"
          ]
        },
        {
          "output_type": "stream",
          "name": "stderr",
          "text": [
            "val Phase: 100%|██████████| 34/34 [00:08<00:00,  4.06it/s]\n"
          ]
        },
        {
          "output_type": "stream",
          "name": "stdout",
          "text": [
            "val Loss (Task1): 4.9240 Acc (Task1): 0.0571 Loss (Task2): 0.9560 Acc (Task2): 0.6950\n",
            "Combined Loss: 2.9400 Combined Accuracy: 0.3761\n",
            "\n",
            "Epoch 6/9\n",
            "----------\n"
          ]
        },
        {
          "output_type": "stream",
          "name": "stderr",
          "text": [
            "train Phase: 100%|██████████| 602/602 [02:21<00:00,  4.25it/s]\n"
          ]
        },
        {
          "output_type": "stream",
          "name": "stdout",
          "text": [
            "train Loss (Task1): 1.5341 Acc (Task1): 0.5154 Loss (Task2): 0.9210 Acc (Task2): 0.6960\n",
            "Combined Loss: 1.2276 Combined Accuracy: 0.6057\n"
          ]
        },
        {
          "output_type": "stream",
          "name": "stderr",
          "text": [
            "val Phase: 100%|██████████| 34/34 [00:08<00:00,  4.07it/s]\n"
          ]
        },
        {
          "output_type": "stream",
          "name": "stdout",
          "text": [
            "val Loss (Task1): 4.8030 Acc (Task1): 0.0720 Loss (Task2): 0.9599 Acc (Task2): 0.6819\n",
            "Combined Loss: 2.8815 Combined Accuracy: 0.3770\n",
            "\n",
            "Early stopping at epoch 6 due to no improvement in validation loss for 5 epochs.\n",
            "Training complete in 17m 7s\n",
            "Best combined Acc: 0.361553\n"
          ]
        },
        {
          "output_type": "display_data",
          "data": {
            "text/plain": [
              "<IPython.core.display.HTML object>"
            ],
            "text/html": [
              "\n",
              "    <style>\n",
              "        .wandb-row {\n",
              "            display: flex;\n",
              "            flex-direction: row;\n",
              "            flex-wrap: wrap;\n",
              "            justify-content: flex-start;\n",
              "            width: 100%;\n",
              "        }\n",
              "        .wandb-col {\n",
              "            display: flex;\n",
              "            flex-direction: column;\n",
              "            flex-basis: 100%;\n",
              "            flex: 1;\n",
              "            padding: 10px;\n",
              "        }\n",
              "    </style>\n",
              "<div class=\"wandb-row\"><div class=\"wandb-col\"><h3>Run history:</h3><br/><table class=\"wandb\"><tr><td>epoch</td><td>▁▂▃▅▆▇█</td></tr><tr><td>train accuracy (Task1)</td><td>▁▅▆▇███</td></tr><tr><td>train accuracy (Task2)</td><td>▁▆▇▇███</td></tr><tr><td>train combined accuracy</td><td>▁▅▆▇███</td></tr><tr><td>train combined loss</td><td>█▄▃▂▂▁▁</td></tr><tr><td>train loss (Task1)</td><td>█▄▃▂▂▁▁</td></tr><tr><td>train loss (Task2)</td><td>█▃▂▂▁▁▁</td></tr><tr><td>val accuracy (Task1)</td><td>▁▄▇█▅▅▇</td></tr><tr><td>val accuracy (Task2)</td><td>▁▅▅▆██▆</td></tr><tr><td>val combined accuracy</td><td>▁▅▇██▇▇</td></tr><tr><td>val combined loss</td><td>▆▁▂▃▇█▆</td></tr><tr><td>val loss (Task1)</td><td>▄▁▂▃▇█▆</td></tr><tr><td>val loss (Task2)</td><td>█▄▃▂▁▁▂</td></tr></table><br/></div><div class=\"wandb-col\"><h3>Run summary:</h3><br/><table class=\"wandb\"><tr><td>epoch</td><td>6</td></tr><tr><td>train accuracy (Task1)</td><td>0.51538</td></tr><tr><td>train accuracy (Task2)</td><td>0.69601</td></tr><tr><td>train combined accuracy</td><td>0.6057</td></tr><tr><td>train combined loss</td><td>1.22756</td></tr><tr><td>train loss (Task1)</td><td>1.53411</td></tr><tr><td>train loss (Task2)</td><td>0.92101</td></tr><tr><td>val accuracy (Task1)</td><td>0.07203</td></tr><tr><td>val accuracy (Task2)</td><td>0.68195</td></tr><tr><td>val combined accuracy</td><td>0.37699</td></tr><tr><td>val combined loss</td><td>2.88148</td></tr><tr><td>val loss (Task1)</td><td>4.80304</td></tr><tr><td>val loss (Task2)</td><td>0.95993</td></tr></table><br/></div></div>"
            ]
          },
          "metadata": {}
        },
        {
          "output_type": "display_data",
          "data": {
            "text/plain": [
              "<IPython.core.display.HTML object>"
            ],
            "text/html": [
              " View run <strong style=\"color:#cdcd00\">devout-shape-2</strong> at: <a href='https://wandb.ai/olteanirina1-babes-bolyai-university/SemArt_TransferLearning_fe/runs/1wwji6s4' target=\"_blank\">https://wandb.ai/olteanirina1-babes-bolyai-university/SemArt_TransferLearning_fe/runs/1wwji6s4</a><br/> View project at: <a href='https://wandb.ai/olteanirina1-babes-bolyai-university/SemArt_TransferLearning_fe' target=\"_blank\">https://wandb.ai/olteanirina1-babes-bolyai-university/SemArt_TransferLearning_fe</a><br/>Synced 5 W&B file(s), 0 media file(s), 0 artifact file(s) and 0 other file(s)"
            ]
          },
          "metadata": {}
        },
        {
          "output_type": "display_data",
          "data": {
            "text/plain": [
              "<IPython.core.display.HTML object>"
            ],
            "text/html": [
              "Find logs at: <code>./wandb/run-20241114_184907-1wwji6s4/logs</code>"
            ]
          },
          "metadata": {}
        }
      ]
    }
  ]
}