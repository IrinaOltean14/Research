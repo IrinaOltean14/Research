{
 "cells": [
  {
   "cell_type": "code",
   "execution_count": 1,
   "metadata": {
    "id": "uej8PajKS5FQ"
   },
   "outputs": [],
   "source": [
    "import os\n",
    "import pandas as pd\n",
    "import time\n",
    "import torch\n",
    "import torchvision\n",
    "import torch.nn.functional as F\n",
    "from torchvision import transforms\n",
    "from PIL import Image\n",
    "from torch.utils.data import Dataset, DataLoader\n",
    "from sklearn.preprocessing import LabelEncoder\n",
    "from tempfile import TemporaryDirectory\n",
    "import numpy as np\n",
    "import matplotlib.pyplot as plt\n",
    "from torchvision import datasets, models, transforms"
   ]
  },
  {
   "cell_type": "code",
   "execution_count": 2,
   "metadata": {},
   "outputs": [
    {
     "name": "stdout",
     "output_type": "stream",
     "text": [
      "True\n",
      "2.4.1\n",
      "12.1\n"
     ]
    }
   ],
   "source": [
    "print(torch.cuda.is_available())\n",
    "print(torch.__version__)\n",
    "print(torch.version.cuda)"
   ]
  },
  {
   "cell_type": "code",
   "execution_count": 3,
   "metadata": {
    "colab": {
     "base_uri": "https://localhost:8080/"
    },
    "id": "hzwfhvaUyr6s",
    "outputId": "bb516f48-ea38-4707-9f9e-2cd5d2b2ee5b"
   },
   "outputs": [
    {
     "name": "stdout",
     "output_type": "stream",
     "text": [
      "Device used: cuda\n"
     ]
    }
   ],
   "source": [
    "device = torch.device(\"cuda\" if torch.cuda.is_available() else \"cpu\")\n",
    "print(f\"Device used: {device}\")"
   ]
  },
  {
   "cell_type": "code",
   "execution_count": 4,
   "metadata": {
    "id": "w6xKTxeQS6GH"
   },
   "outputs": [],
   "source": [
    "images_folder_path = 'C:\\\\Irina\\\\dataset\\\\SemArt\\\\Images'\n",
    "train_csv_path = 'C:\\\\Irina\\\\dataset\\\\SemArt\\\\semart_train.csv'\n",
    "val_csv_path = 'C:\\\\Irina\\\\dataset\\\\SemArt\\\\semart_val.csv'\n",
    "test_csv_path = 'C:\\\\Irina\\\\dataset\\\\SemArt\\\\semart_test.csv'"
   ]
  },
  {
   "cell_type": "code",
   "execution_count": 5,
   "metadata": {
    "id": "ufwxi293S-FQ"
   },
   "outputs": [],
   "source": [
    "def load_csv(csv_path, images_folder_path):\n",
    "    df = pd.read_csv(csv_path, sep='\\t', encoding='ISO-8859-1')\n",
    "    # Create the full image path\n",
    "    df['image_path'] = df['IMAGE_FILE'].apply(lambda x: os.path.join(images_folder_path, x))\n",
    "    return df[['image_path', 'SCHOOL', 'TYPE']]\n",
    "\n",
    "train_df = load_csv(train_csv_path, images_folder_path)\n",
    "val_df = load_csv(val_csv_path, images_folder_path)\n",
    "test_df = load_csv(test_csv_path, images_folder_path)"
   ]
  },
  {
   "cell_type": "code",
   "execution_count": 7,
   "metadata": {
    "id": "wrMEStSzTNwJ"
   },
   "outputs": [],
   "source": [
    "school_encoder = LabelEncoder()\n",
    "type_encoder = LabelEncoder()\n",
    "\n",
    "train_df['SCHOOL'] = school_encoder.fit_transform(train_df['SCHOOL'])\n",
    "train_df['TYPE'] = type_encoder.fit_transform(train_df['TYPE'])\n",
    "\n",
    "val_df['SCHOOL'] = school_encoder.transform(val_df['SCHOOL'])\n",
    "val_df['TYPE'] = type_encoder.transform(val_df['TYPE'])\n",
    "\n",
    "test_df['SCHOOL'] = school_encoder.transform(test_df['SCHOOL'])\n",
    "test_df['TYPE'] = type_encoder.transform(test_df['TYPE'])"
   ]
  },
  {
   "cell_type": "code",
   "execution_count": 8,
   "metadata": {
    "colab": {
     "base_uri": "https://localhost:8080/"
    },
    "id": "DTFqTTr2Un43",
    "outputId": "8cfd725b-94d7-4ca2-8224-ee8ae255ccd2"
   },
   "outputs": [
    {
     "name": "stdout",
     "output_type": "stream",
     "text": [
      "Number of classes for SCHOOL: 26\n",
      "Number of classes for TYPE: 10\n"
     ]
    }
   ],
   "source": [
    "num_classes_school = len(school_encoder.classes_)\n",
    "num_classes_type = len(type_encoder.classes_)\n",
    "\n",
    "print(f\"Number of classes for SCHOOL: {num_classes_school}\")\n",
    "print(f\"Number of classes for TYPE: {num_classes_type}\")"
   ]
  },
  {
   "cell_type": "code",
   "execution_count": 9,
   "metadata": {
    "id": "mifuV6hqTo5m"
   },
   "outputs": [],
   "source": [
    "train_transforms = transforms.Compose([\n",
    "    transforms.RandomResizedCrop(224),\n",
    "    transforms.RandomHorizontalFlip(),\n",
    "    transforms.ToTensor(),\n",
    "    transforms.Normalize([0.485, 0.456, 0.406], [0.229, 0.224, 0.225]),\n",
    "])\n",
    "\n",
    "val_test_transforms = transforms.Compose([\n",
    "    transforms.Resize(256),\n",
    "    transforms.CenterCrop(224),\n",
    "    transforms.ToTensor(),\n",
    "    transforms.Normalize([0.485, 0.456, 0.406], [0.229, 0.224, 0.225]),\n",
    "])"
   ]
  },
  {
   "cell_type": "code",
   "execution_count": 10,
   "metadata": {
    "id": "wcamY1_5U9j4"
   },
   "outputs": [],
   "source": [
    "class SEMARTDataset(Dataset):\n",
    "    def __init__(self, dataframe, transform=None):\n",
    "        self.dataframe = dataframe\n",
    "        self.transform = transform\n",
    "\n",
    "    def __len__(self):\n",
    "        return len(self.dataframe)\n",
    "\n",
    "    def __getitem__(self, idx):\n",
    "        img_path = self.dataframe.iloc[idx]['image_path']\n",
    "        image = Image.open(img_path).convert(\"RGB\")\n",
    "\n",
    "        if self.transform:\n",
    "            image = self.transform(image)\n",
    "\n",
    "        school_label = self.dataframe.iloc[idx]['SCHOOL']\n",
    "        type_label = self.dataframe.iloc[idx]['TYPE']\n",
    "\n",
    "        return image, torch.tensor(school_label, dtype=torch.long), torch.tensor(type_label, dtype=torch.long)"
   ]
  },
  {
   "cell_type": "code",
   "execution_count": 11,
   "metadata": {
    "id": "ZrkmroV6VHX3"
   },
   "outputs": [],
   "source": [
    "# Create dataset instances\n",
    "train_dataset = SEMARTDataset(train_df, transform=train_transforms)\n",
    "val_dataset = SEMARTDataset(val_df, transform=val_test_transforms)\n",
    "test_dataset = SEMARTDataset(test_df, transform=val_test_transforms)\n",
    "\n",
    "# Create DataLoader instances\n",
    "batch_size = 32\n",
    "train_loader = DataLoader(train_dataset, batch_size=batch_size, shuffle=True, num_workers=0)\n",
    "val_loader = DataLoader(val_dataset, batch_size=batch_size, shuffle=False, num_workers=0)\n",
    "test_loader = DataLoader(test_dataset, batch_size=batch_size, shuffle=False, num_workers=0)\n",
    "dataloaders = {'train': train_loader, 'val': val_loader, 'test': test_loader}\n",
    "dataset_sizes = {'train': len(train_dataset), 'val': len(val_dataset), 'test': len(test_dataset)}"
   ]
  },
  {
   "cell_type": "code",
   "execution_count": 35,
   "metadata": {
    "colab": {
     "base_uri": "https://localhost:8080/",
     "height": 228
    },
    "id": "wF-ONM6lWafO",
    "outputId": "1c2ae115-61ea-4e38-825f-702c332fed19"
   },
   "outputs": [
    {
     "data": {
      "image/png": "[encoded data removed]",
      "text/plain": [
       "<Figure size 640x480 with 1 Axes>"
      ]
     },
     "metadata": {},
     "output_type": "display_data"
    }
   ],
   "source": [
    "def imshow(inp, school_labels=None, type_labels=None):\n",
    "    \"\"\"Display images in a grid with school and type labels.\"\"\"\n",
    "    inp = inp.numpy().transpose((1, 2, 0))  #\n",
    "    mean = np.array([0.485, 0.456, 0.406])\n",
    "    std = np.array([0.229, 0.224, 0.225])\n",
    "    inp = std * inp + mean  # Reverse normalization\n",
    "    inp = np.clip(inp, 0, 1)\n",
    "    plt.imshow(inp)\n",
    "\n",
    "    # Display labels if provided\n",
    "    if school_labels and type_labels:\n",
    "        plt.title(f\"SCHOOL: {school_labels}\\nTYPE: {type_labels}\")\n",
    "\n",
    "    plt.pause(0.001)\n",
    "    plt.show()\n",
    "\n",
    "\n",
    "# Get a batch of training data\n",
    "images, school_labels, type_labels = next(iter(train_loader))\n",
    "\n",
    "# Select the first 5 images and their labels\n",
    "images = images[:5]\n",
    "school_labels = school_labels[:5]\n",
    "type_labels = type_labels[:5]\n",
    "\n",
    "# Make a grid from the 5 selected images\n",
    "out = torchvision.utils.make_grid(images, nrow=5)\n",
    "\n",
    "# Decode school and type labels for the first 5 images\n",
    "school_labels_text = [school_encoder.classes_[label] for label in school_labels]\n",
    "type_labels_text = [type_encoder.classes_[label] for label in type_labels]\n",
    "\n",
    "# Display the grid of 5 images with the decoded labels\n",
    "imshow(out, school_labels=school_labels_text, type_labels=type_labels_text)"
   ]
  },
  {
   "cell_type": "code",
   "execution_count": null,
   "metadata": {
    "colab": {
     "base_uri": "https://localhost:8080/"
    },
    "id": "pJl_kL7n4IeB",
    "outputId": "0ff8e43f-f465-45a1-f3ab-e0f5e3cc76ca"
   },
   "outputs": [
    {
     "name": "stdout",
     "output_type": "stream",
     "text": [
      "Requirement already satisfied: wandb in c:\\users\\lenovo\\anaconda3\\envs\\cudatest\\lib\\site-packages (0.19.0)\n",
      "Requirement already satisfied: click!=8.0.0,>=7.1 in c:\\users\\lenovo\\anaconda3\\envs\\cudatest\\lib\\site-packages (from wandb) (8.1.7)\n",
      "Requirement already satisfied: docker-pycreds>=0.4.0 in c:\\users\\lenovo\\anaconda3\\envs\\cudatest\\lib\\site-packages (from wandb) (0.4.0)\n",
      "Requirement already satisfied: eval-type-backport in c:\\users\\lenovo\\anaconda3\\envs\\cudatest\\lib\\site-packages (from wandb) (0.2.0)\n",
      "Requirement already satisfied: gitpython!=3.1.29,>=1.0.0 in c:\\users\\lenovo\\anaconda3\\envs\\cudatest\\lib\\site-packages (from wandb) (3.1.43)\n",
      "Requirement already satisfied: platformdirs in c:\\users\\lenovo\\anaconda3\\envs\\cudatest\\lib\\site-packages (from wandb) (3.10.0)\n",
      "Requirement already satisfied: protobuf!=4.21.0,!=5.28.0,<6,>=3.19.0 in c:\\users\\lenovo\\anaconda3\\envs\\cudatest\\lib\\site-packages (from wandb) (5.29.1)"
     ]
    },
    {
     "name": "stdout",
     "output_type": "stream",
     "text": [
      "\n",
      "Requirement already satisfied: psutil>=5.0.0 in c:\\users\\lenovo\\anaconda3\\envs\\cudatest\\lib\\site-packages (from wandb) (5.9.0)\n",
      "Requirement already satisfied: pydantic<3,>=2.6 in c:\\users\\lenovo\\anaconda3\\envs\\cudatest\\lib\\site-packages (from wandb) (2.10.3)\n",
      "Requirement already satisfied: pyyaml in c:\\users\\lenovo\\anaconda3\\envs\\cudatest\\lib\\site-packages (from wandb) (6.0.2)\n",
      "Requirement already satisfied: requests<3,>=2.0.0 in c:\\users\\lenovo\\anaconda3\\envs\\cudatest\\lib\\site-packages (from wandb) (2.32.3)\n",
      "Requirement already satisfied: sentry-sdk>=2.0.0 in c:\\users\\lenovo\\anaconda3\\envs\\cudatest\\lib\\site-packages (from wandb) (2.19.2)\n",
      "Requirement already satisfied: setproctitle in c:\\users\\lenovo\\anaconda3\\envs\\cudatest\\lib\\site-packages (from wandb) (1.3.4)\n",
      "Requirement already satisfied: setuptools in c:\\users\\lenovo\\anaconda3\\envs\\cudatest\\lib\\site-packages (from wandb) (75.1.0)\n",
      "Requirement already satisfied: typing-extensions<5,>=4.4 in c:\\users\\lenovo\\anaconda3\\envs\\cudatest\\lib\\site-packages (from wandb) (4.12.2)\n",
      "Requirement already satisfied: colorama in c:\\users\\lenovo\\anaconda3\\envs\\cudatest\\lib\\site-packages (from click!=8.0.0,>=7.1->wandb) (0.4.6)\n",
      "Requirement already satisfied: six>=1.4.0 in c:\\users\\lenovo\\anaconda3\\envs\\cudatest\\lib\\site-packages (from docker-pycreds>=0.4.0->wandb) (1.16.0)\n",
      "Requirement already satisfied: gitdb<5,>=4.0.1 in c:\\users\\lenovo\\anaconda3\\envs\\cudatest\\lib\\site-packages (from gitpython!=3.1.29,>=1.0.0->wandb) (4.0.11)\n",
      "Requirement already satisfied: annotated-types>=0.6.0 in c:\\users\\lenovo\\anaconda3\\envs\\cudatest\\lib\\site-packages (from pydantic<3,>=2.6->wandb) (0.7.0)\n",
      "Requirement already satisfied: pydantic-core==2.27.1 in c:\\users\\lenovo\\anaconda3\\envs\\cudatest\\lib\\site-packages (from pydantic<3,>=2.6->wandb) (2.27.1)\n",
      "Requirement already satisfied: charset-normalizer<4,>=2 in c:\\users\\lenovo\\anaconda3\\envs\\cudatest\\lib\\site-packages (from requests<3,>=2.0.0->wandb) (3.3.2)\n",
      "Requirement already satisfied: idna<4,>=2.5 in c:\\users\\lenovo\\anaconda3\\envs\\cudatest\\lib\\site-packages (from requests<3,>=2.0.0->wandb) (3.7)\n",
      "Requirement already satisfied: urllib3<3,>=1.21.1 in c:\\users\\lenovo\\anaconda3\\envs\\cudatest\\lib\\site-packages (from requests<3,>=2.0.0->wandb) (2.2.3)\n",
      "Requirement already satisfied: certifi>=2017.4.17 in c:\\users\\lenovo\\anaconda3\\envs\\cudatest\\lib\\site-packages (from requests<3,>=2.0.0->wandb) (2024.8.30)\n",
      "Requirement already satisfied: smmap<6,>=3.0.1 in c:\\users\\lenovo\\anaconda3\\envs\\cudatest\\lib\\site-packages (from gitdb<5,>=4.0.1->gitpython!=3.1.29,>=1.0.0->wandb) (5.0.1)\n"
     ]
    }
   ],
   "source": [
    "!pip install wandb"
   ]
  },
  {
   "cell_type": "code",
   "execution_count": 37,
   "metadata": {
    "colab": {
     "base_uri": "https://localhost:8080/",
     "height": 383
    },
    "id": "yW8kZcc14Bac",
    "outputId": "fb4a3f41-4e4c-46ac-961c-638528785982"
   },
   "outputs": [
    {
     "name": "stderr",
     "output_type": "stream",
     "text": [
      "wandb: WARNING Calling wandb.login() after wandb.init() has no effect.\n"
     ]
    },
    {
     "data": {
      "text/html": [
       "<button onClick=\"this.nextSibling.style.display='block';this.style.display='none';\">Display W&B run</button><iframe src='https://wandb.ai/olteanirina1-babes-bolyai-university/SemArtDatasetFE/runs/sxuqeb2f?jupyter=true' style='border:none;width:100%;height:420px;display:none;'></iframe>"
      ],
      "text/plain": [
       "<wandb.sdk.wandb_run.Run at 0x1e2dc9f2f10>"
      ]
     },
     "execution_count": 37,
     "metadata": {},
     "output_type": "execute_result"
    }
   ],
   "source": [
    "import wandb\n",
    "wandb.login()\n",
    "\n",
    "# Inițializarea proiectului\n",
    "wandb.init(\n",
    "    project=\"FESemArtDataset\",  # Numele proiectului\n",
    "    name=\"ResNet18-FixedFeatureExtractor\",  # Numele experimentului\n",
    "    config={\n",
    "        \"learning_rate\": 0.001,\n",
    "        \"epochs\": 25,\n",
    "        \"batch_size\": batch_size,\n",
    "        \"patience\": 7\n",
    "    }\n",
    ")\n",
    "\n",
    "\n",
    "\n"
   ]
  },
  {
   "cell_type": "code",
   "execution_count": 25,
   "metadata": {
    "id": "4WKLy8M5XNS1"
   },
   "outputs": [],
   "source": [
    "from tqdm import tqdm\n",
    "\n",
    "def train_model(model, criterion_school, criterion_type, optimizer, scheduler, drive_save_path, patience = 7, num_epochs=25):\n",
    "    since = time.time()\n",
    "\n",
    "    # Initialize best accuracy\n",
    "    best_acc = 0.0\n",
    "    no_improve_count = 0\n",
    "\n",
    "    # Save the initial model state directly to Google Drive\n",
    "    best_model_params_path = drive_save_path\n",
    "    torch.save(model.state_dict(), best_model_params_path)\n",
    "\n",
    "    for epoch in range(num_epochs):\n",
    "        print(f'Epoch {epoch}/{num_epochs - 1}')\n",
    "        print('-' * 10)\n",
    "\n",
    "        # Each epoch has a training and validation phase\n",
    "        for phase in ['train', 'val']:\n",
    "            if phase == 'train':\n",
    "                model.train()  # Set model to training mode\n",
    "            else:\n",
    "                model.eval()   # Set model to evaluate mode\n",
    "\n",
    "            running_loss = 0.0\n",
    "            running_corrects_school = 0  # number of correct predictions for school\n",
    "            running_corrects_type = 0  # number of correct predictions for type\n",
    "\n",
    "            # Iterate over data\n",
    "            for inputs, school_labels, type_labels in tqdm(dataloaders[phase], desc=f\"{phase} Phase\"):  # iteration over batches\n",
    "                inputs = inputs.to(device)\n",
    "                school_labels = school_labels.to(device)\n",
    "                type_labels = type_labels.to(device)\n",
    "\n",
    "                # Zero the parameter gradients\n",
    "                optimizer.zero_grad()\n",
    "\n",
    "                # Forward\n",
    "                with torch.set_grad_enabled(phase == 'train'):  # Only track gradients in training\n",
    "                    # Forward pass to get outputs for both tasks\n",
    "                    outputs = model(inputs)\n",
    "                    outputs_school = outputs[:, :num_classes_school]  # Primele num_classes_school coloane\n",
    "                    outputs_type = outputs[:, num_classes_school:]\n",
    "\n",
    "                    # Compute losses for both tasks\n",
    "                    loss_school = criterion_school(outputs_school, school_labels)\n",
    "                    loss_type = criterion_type(outputs_type, type_labels)\n",
    "\n",
    "                    # Combine the losses\n",
    "                    loss = 0.5 * loss_school + 0.5 * loss_type\n",
    "\n",
    "                    # Backward + optimize if in training phase\n",
    "                    if phase == 'train':\n",
    "                        loss.backward()\n",
    "                        optimizer.step()\n",
    "\n",
    "                    # Get predictions\n",
    "                    _, preds_school = torch.max(outputs_school, 1)\n",
    "                    _, preds_type = torch.max(outputs_type, 1)\n",
    "\n",
    "                # Statistics\n",
    "                running_loss += loss.item() * inputs.size(0)\n",
    "                running_corrects_school += torch.sum(preds_school == school_labels.data)\n",
    "                running_corrects_type += torch.sum(preds_type == type_labels.data)\n",
    "\n",
    "            # Compute epoch metrics\n",
    "            epoch_loss = running_loss / dataset_sizes[phase]\n",
    "            epoch_acc_school = running_corrects_school.double() / dataset_sizes[phase]\n",
    "            epoch_acc_type = running_corrects_type.double() / dataset_sizes[phase]\n",
    "            avg_acc = (epoch_acc_school + epoch_acc_type) / 2\n",
    "\n",
    "            if phase == 'train':\n",
    "                scheduler.step(avg_acc)\n",
    "\n",
    "            print(f'{phase} Loss: {epoch_loss:.4f} '\n",
    "                  f'SCHOOL Acc: {epoch_acc_school:.4f} '\n",
    "                  f'TYPE Acc: {epoch_acc_type:.4f} '\n",
    "                  f'AVG Acc: {avg_acc:.4f}')\n",
    "\n",
    "            wandb.log({\n",
    "              f\"{phase}_loss\": epoch_loss,\n",
    "              f\"{phase}_school_acc\": epoch_acc_school.item(),\n",
    "              f\"{phase}_type_acc\": epoch_acc_type.item(),\n",
    "              f\"{phase}_avg_acc\": avg_acc,\n",
    "              \"epoch\": epoch\n",
    "            })\n",
    "\n",
    "            # Save the model if it's the best so far\n",
    "            if phase == 'val':\n",
    "                if avg_acc > best_acc:\n",
    "                    best_acc = avg_acc\n",
    "                    no_improve_count = 0  # Reset the counter\n",
    "                    print(f\"New best model found! Saving to {drive_save_path}\")\n",
    "                    torch.save(model.state_dict(), best_model_params_path)\n",
    "                else:\n",
    "                    no_improve_count += 1\n",
    "                    print(f\"No improvement. Patience counter: {no_improve_count}/{patience}\")\n",
    "                    if no_improve_count >= patience:\n",
    "                        print(f\"No improvement in {patience} epochs. Stopping training.\")\n",
    "                        break \n",
    "\n",
    "        if no_improve_count >= patience:\n",
    "            break \n",
    "\n",
    "        print()\n",
    "\n",
    "    time_elapsed = time.time() - since\n",
    "    print(f'Training complete in {time_elapsed // 60:.0f}m {time_elapsed % 60:.0f}s')\n",
    "    print(f'Best val Avg Acc: {best_acc:4f}')\n",
    "\n",
    "    # Load best model weights\n",
    "    model.load_state_dict(torch.load(best_model_params_path, weights_only=True))\n",
    "    wandb.finish()\n",
    "\n",
    "    return model"
   ]
  },
  {
   "cell_type": "code",
   "execution_count": 13,
   "metadata": {
    "id": "pnjHx0POTkn4"
   },
   "outputs": [],
   "source": [
    "import torch\n",
    "import torch.nn as nn\n",
    "import torchvision.models as models\n",
    "import torch.optim as optim"
   ]
  },
  {
   "cell_type": "code",
   "execution_count": 14,
   "metadata": {
    "colab": {
     "base_uri": "https://localhost:8080/"
    },
    "id": "T5PB9lHWY9kL",
    "outputId": "e16621ee-b02f-44f3-b3a2-7ac45617efb7"
   },
   "outputs": [
    {
     "name": "stdout",
     "output_type": "stream",
     "text": [
      "Ponderi pentru SCHOOL:\n",
      "    Class_Label    Weight   Count\n",
      "0             0  0.010353   113.0\n",
      "1             1  0.005416   216.0\n",
      "2             2  0.025999    45.0\n",
      "3             3  0.040343    29.0\n",
      "4             4  0.033427    35.0\n",
      "5             5  0.012446    94.0\n",
      "6             6  0.000397  2948.0\n",
      "7             7  0.002847   411.0\n",
      "8             8  0.233988     5.0\n",
      "9             9  0.000580  2016.0\n",
      "10           10  0.000458  2556.0\n",
      "11           11  0.000997  1173.0\n",
      "12           12  0.031620    37.0\n",
      "13           13  0.006573   178.0\n",
      "14           14  0.055711    21.0\n",
      "15           15  0.000146  8011.0\n",
      "16           16  0.005391   217.0\n",
      "17           17  0.064997    18.0\n",
      "18           18  0.053179    22.0\n",
      "19           19  0.073121    16.0\n",
      "20           20  0.233988     5.0\n",
      "21           21  0.017205    68.0\n",
      "22           22  0.025433    46.0\n",
      "23           23  0.001373   852.0\n",
      "24           24  0.050867    23.0\n",
      "25           25  0.013145    89.0\n",
      "\n",
      "Ponderi pentru TYPE:\n",
      "   Class_Label    Weight   Count\n",
      "0            0  0.023042  1630.0\n",
      "1            1  0.068914   545.0\n",
      "2            2  0.083094   452.0\n",
      "3            3  0.015084  2490.0\n",
      "4            4  0.020171  1862.0\n",
      "5            5  0.073788   509.0\n",
      "6            6  0.011409  3292.0\n",
      "7            7  0.005020  7481.0\n",
      "8            8  0.040560   926.0\n",
      "9            9  0.658918    57.0\n"
     ]
    }
   ],
   "source": [
    "from collections import Counter\n",
    "\n",
    "# Calcularea frecvențelor claselor pentru SCHOOL și TYPE\n",
    "school_counts = Counter(train_df['SCHOOL'])  # Număr de exemple pentru fiecare clasă în SCHOOL\n",
    "type_counts = Counter(train_df['TYPE'])  # Număr de exemple pentru fiecare clasă în TYPE\n",
    "\n",
    "# Obținerea numărului total de clase pentru fiecare sarcină\n",
    "num_classes_school_train = len(school_counts)\n",
    "num_classes_type_train = len(type_counts)\n",
    "\n",
    "# Conversia count-urilor în tensor ordonat după indexul claselor\n",
    "class_counts_school = torch.tensor([school_counts[i] for i in range(num_classes_school_train)], dtype=torch.float)\n",
    "class_counts_type = torch.tensor([type_counts[i] for i in range(num_classes_type_train)], dtype=torch.float)\n",
    "\n",
    "# Calcularea ponderilor invers proporționale cu frecvențele claselor\n",
    "weights_school = 1.0 / class_counts_school\n",
    "weights_school = weights_school / weights_school.sum()  # Normalizarea ponderilor\n",
    "\n",
    "weights_type = 1.0 / class_counts_type\n",
    "weights_type = weights_type / weights_type.sum()  # Normalizarea ponderilor\n",
    "\n",
    "# Crearea unui tabel pentru ponderi și etichete\n",
    "weights_school_df = pd.DataFrame({\n",
    "    'Class_Label': [school_encoder.inverse_transform([i])[0] for i in range(num_classes_school)],\n",
    "    'Weight': weights_school.tolist(),\n",
    "    'Count': class_counts_school.tolist()\n",
    "})\n",
    "\n",
    "weights_type_df = pd.DataFrame({\n",
    "    'Class_Label': [type_encoder.inverse_transform([i])[0] for i in range(num_classes_type)],\n",
    "    'Weight': weights_type.tolist(),\n",
    "    'Count': class_counts_type.tolist()\n",
    "})\n",
    "\n",
    "print(\"Ponderi pentru SCHOOL:\")\n",
    "print(weights_school_df)\n",
    "\n",
    "print(\"\\nPonderi pentru TYPE:\")\n",
    "print(weights_type_df)\n"
   ]
  },
  {
   "cell_type": "code",
   "execution_count": 21,
   "metadata": {
    "colab": {
     "base_uri": "https://localhost:8080/"
    },
    "id": "wC1KY_cFUMJh",
    "outputId": "4fed563b-f6fb-42c3-b608-1499e4bea5dc"
   },
   "outputs": [],
   "source": [
    "resnet18 = models.resnet18(weights=models.ResNet18_Weights.DEFAULT)\n",
    "\n",
    "for param in resnet18.parameters(): # freeze all layers except the final fully connected layers\n",
    "    param.requires_grad = False\n",
    "\n",
    "num_features = resnet18.fc.in_features\n",
    "resnet18.fc = nn.Sequential(\n",
    "    nn.Linear(num_features, 256),  # Un strat ascuns intermediar\n",
    "    nn.ReLU(),\n",
    "    nn.Linear(256, num_classes_school + num_classes_type)  # Ieșiri pentru SCHOOL și TYPE\n",
    ")\n",
    "\n",
    "resnet18 = resnet18.to(device)\n",
    "\n",
    "# Crearea funcțiilor de pierdere cu ponderi\n",
    "criterion_school = torch.nn.CrossEntropyLoss(weight=weights_school.to(device))\n",
    "criterion_type = torch.nn.CrossEntropyLoss(weight=weights_type.to(device))\n",
    "optimizer = optim.SGD(resnet18.fc.parameters(), lr=0.001, momentum=0.9)\n",
    "\n",
    "scheduler = optim.lr_scheduler.StepLR(optimizer, step_size=7, gamma=0.1)"
   ]
  },
  {
   "cell_type": "code",
   "execution_count": 43,
   "metadata": {
    "colab": {
     "base_uri": "https://localhost:8080/"
    },
    "id": "gFHH4UHOx6_P",
    "outputId": "e5dd7875-cbe3-4321-ce6f-2bdb842ce1f7"
   },
   "outputs": [
    {
     "name": "stdout",
     "output_type": "stream",
     "text": [
      "Epoch 0/24\n",
      "----------\n"
     ]
    },
    {
     "name": "stderr",
     "output_type": "stream",
     "text": [
      "train Phase: 100%|██████████| 1203/1203 [11:11<00:00,  1.79it/s]\n"
     ]
    },
    {
     "name": "stdout",
     "output_type": "stream",
     "text": [
      "train Loss: 2.3559 SCHOOL Acc: 0.2469 TYPE Acc: 0.4622\n"
     ]
    },
    {
     "name": "stderr",
     "output_type": "stream",
     "text": [
      "val Phase: 100%|██████████| 67/67 [00:42<00:00,  1.56it/s]\n"
     ]
    },
    {
     "name": "stdout",
     "output_type": "stream",
     "text": [
      "val Loss: 2.0987 SCHOOL Acc: 0.3068 TYPE Acc: 0.5659\n",
      "New best model found! Saving to C:\\Irina\\model\\best_model_params.pth\n",
      "\n",
      "Epoch 1/24\n",
      "----------\n"
     ]
    },
    {
     "name": "stderr",
     "output_type": "stream",
     "text": [
      "train Phase: 100%|██████████| 1203/1203 [10:32<00:00,  1.90it/s]\n"
     ]
    },
    {
     "name": "stdout",
     "output_type": "stream",
     "text": [
      "train Loss: 2.1225 SCHOOL Acc: 0.2927 TYPE Acc: 0.5385\n"
     ]
    },
    {
     "name": "stderr",
     "output_type": "stream",
     "text": [
      "val Phase: 100%|██████████| 67/67 [00:38<00:00,  1.76it/s]\n"
     ]
    },
    {
     "name": "stdout",
     "output_type": "stream",
     "text": [
      "val Loss: 1.9916 SCHOOL Acc: 0.3003 TYPE Acc: 0.5893\n",
      "New best model found! Saving to C:\\Irina\\model\\best_model_params.pth\n",
      "\n",
      "Epoch 2/24\n",
      "----------\n"
     ]
    },
    {
     "name": "stderr",
     "output_type": "stream",
     "text": [
      "train Phase: 100%|██████████| 1203/1203 [10:08<00:00,  1.98it/s]\n"
     ]
    },
    {
     "name": "stdout",
     "output_type": "stream",
     "text": [
      "train Loss: 2.0350 SCHOOL Acc: 0.3023 TYPE Acc: 0.5539\n"
     ]
    },
    {
     "name": "stderr",
     "output_type": "stream",
     "text": [
      "val Phase: 100%|██████████| 67/67 [00:42<00:00,  1.58it/s]\n"
     ]
    },
    {
     "name": "stdout",
     "output_type": "stream",
     "text": [
      "val Loss: 1.9336 SCHOOL Acc: 0.3152 TYPE Acc: 0.5893\n",
      "New best model found! Saving to C:\\Irina\\model\\best_model_params.pth\n",
      "\n",
      "Epoch 3/24\n",
      "----------\n"
     ]
    },
    {
     "name": "stderr",
     "output_type": "stream",
     "text": [
      "train Phase: 100%|██████████| 1203/1203 [10:02<00:00,  2.00it/s]\n"
     ]
    },
    {
     "name": "stdout",
     "output_type": "stream",
     "text": [
      "train Loss: 2.0000 SCHOOL Acc: 0.3041 TYPE Acc: 0.5572\n"
     ]
    },
    {
     "name": "stderr",
     "output_type": "stream",
     "text": [
      "val Phase: 100%|██████████| 67/67 [00:42<00:00,  1.57it/s]\n"
     ]
    },
    {
     "name": "stdout",
     "output_type": "stream",
     "text": [
      "val Loss: 1.9021 SCHOOL Acc: 0.3143 TYPE Acc: 0.6408\n",
      "New best model found! Saving to C:\\Irina\\model\\best_model_params.pth\n",
      "\n",
      "Epoch 4/24\n",
      "----------\n"
     ]
    },
    {
     "name": "stderr",
     "output_type": "stream",
     "text": [
      "train Phase: 100%|██████████| 1203/1203 [20:32<00:00,  1.02s/it]   \n"
     ]
    },
    {
     "name": "stdout",
     "output_type": "stream",
     "text": [
      "train Loss: 1.9617 SCHOOL Acc: 0.3121 TYPE Acc: 0.5607\n"
     ]
    },
    {
     "name": "stderr",
     "output_type": "stream",
     "text": [
      "val Phase: 100%|██████████| 67/67 [00:30<00:00,  2.21it/s]\n"
     ]
    },
    {
     "name": "stdout",
     "output_type": "stream",
     "text": [
      "val Loss: 1.8697 SCHOOL Acc: 0.2891 TYPE Acc: 0.5940\n",
      "No improvement. Patience counter: 1/7\n",
      "\n",
      "Epoch 5/24\n",
      "----------\n"
     ]
    },
    {
     "name": "stderr",
     "output_type": "stream",
     "text": [
      "train Phase: 100%|██████████| 1203/1203 [10:12<00:00,  1.96it/s]\n"
     ]
    },
    {
     "name": "stdout",
     "output_type": "stream",
     "text": [
      "train Loss: 1.9340 SCHOOL Acc: 0.3084 TYPE Acc: 0.5604\n"
     ]
    },
    {
     "name": "stderr",
     "output_type": "stream",
     "text": [
      "val Phase: 100%|██████████| 67/67 [00:34<00:00,  1.95it/s]\n"
     ]
    },
    {
     "name": "stdout",
     "output_type": "stream",
     "text": [
      "val Loss: 1.8270 SCHOOL Acc: 0.2834 TYPE Acc: 0.6193\n",
      "No improvement. Patience counter: 2/7\n",
      "\n",
      "Epoch 6/24\n",
      "----------\n"
     ]
    },
    {
     "name": "stderr",
     "output_type": "stream",
     "text": [
      "train Phase: 100%|██████████| 1203/1203 [10:10<00:00,  1.97it/s]\n"
     ]
    },
    {
     "name": "stdout",
     "output_type": "stream",
     "text": [
      "train Loss: 1.9077 SCHOOL Acc: 0.3191 TYPE Acc: 0.5749\n"
     ]
    },
    {
     "name": "stderr",
     "output_type": "stream",
     "text": [
      "val Phase: 100%|██████████| 67/67 [00:39<00:00,  1.68it/s]\n"
     ]
    },
    {
     "name": "stdout",
     "output_type": "stream",
     "text": [
      "val Loss: 1.9015 SCHOOL Acc: 0.2554 TYPE Acc: 0.6183\n",
      "No improvement. Patience counter: 3/7\n",
      "\n",
      "Epoch 7/24\n",
      "----------\n"
     ]
    },
    {
     "name": "stderr",
     "output_type": "stream",
     "text": [
      "train Phase: 100%|██████████| 1203/1203 [10:26<00:00,  1.92it/s]\n"
     ]
    },
    {
     "name": "stdout",
     "output_type": "stream",
     "text": [
      "train Loss: 1.8449 SCHOOL Acc: 0.3397 TYPE Acc: 0.5834\n"
     ]
    },
    {
     "name": "stderr",
     "output_type": "stream",
     "text": [
      "val Phase: 100%|██████████| 67/67 [00:30<00:00,  2.21it/s]\n"
     ]
    },
    {
     "name": "stdout",
     "output_type": "stream",
     "text": [
      "val Loss: 1.8205 SCHOOL Acc: 0.3695 TYPE Acc: 0.6249\n",
      "New best model found! Saving to C:\\Irina\\model\\best_model_params.pth\n",
      "\n",
      "Epoch 8/24\n",
      "----------\n"
     ]
    },
    {
     "name": "stderr",
     "output_type": "stream",
     "text": [
      "train Phase: 100%|██████████| 1203/1203 [09:41<00:00,  2.07it/s]\n"
     ]
    },
    {
     "name": "stdout",
     "output_type": "stream",
     "text": [
      "train Loss: 1.8167 SCHOOL Acc: 0.3438 TYPE Acc: 0.5828\n"
     ]
    },
    {
     "name": "stderr",
     "output_type": "stream",
     "text": [
      "val Phase: 100%|██████████| 67/67 [00:37<00:00,  1.79it/s]\n"
     ]
    },
    {
     "name": "stdout",
     "output_type": "stream",
     "text": [
      "val Loss: 1.8052 SCHOOL Acc: 0.3424 TYPE Acc: 0.6109\n",
      "No improvement. Patience counter: 1/7\n",
      "\n",
      "Epoch 9/24\n",
      "----------\n"
     ]
    },
    {
     "name": "stderr",
     "output_type": "stream",
     "text": [
      "train Phase: 100%|██████████| 1203/1203 [08:39<00:00,  2.32it/s]\n"
     ]
    },
    {
     "name": "stdout",
     "output_type": "stream",
     "text": [
      "train Loss: 1.8194 SCHOOL Acc: 0.3410 TYPE Acc: 0.5858\n"
     ]
    },
    {
     "name": "stderr",
     "output_type": "stream",
     "text": [
      "val Phase: 100%|██████████| 67/67 [00:38<00:00,  1.75it/s]\n"
     ]
    },
    {
     "name": "stdout",
     "output_type": "stream",
     "text": [
      "val Loss: 1.7928 SCHOOL Acc: 0.3246 TYPE Acc: 0.6305\n",
      "No improvement. Patience counter: 2/7\n",
      "\n",
      "Epoch 10/24\n",
      "----------\n"
     ]
    },
    {
     "name": "stderr",
     "output_type": "stream",
     "text": [
      "train Phase: 100%|██████████| 1203/1203 [57:19<00:00,  2.86s/it]    \n"
     ]
    },
    {
     "name": "stdout",
     "output_type": "stream",
     "text": [
      "train Loss: 1.7977 SCHOOL Acc: 0.3499 TYPE Acc: 0.5813\n"
     ]
    },
    {
     "name": "stderr",
     "output_type": "stream",
     "text": [
      "val Phase: 100%|██████████| 67/67 [00:41<00:00,  1.60it/s]\n"
     ]
    },
    {
     "name": "stdout",
     "output_type": "stream",
     "text": [
      "val Loss: 1.8027 SCHOOL Acc: 0.3293 TYPE Acc: 0.6127\n",
      "No improvement. Patience counter: 3/7\n",
      "\n",
      "Epoch 11/24\n",
      "----------\n"
     ]
    },
    {
     "name": "stderr",
     "output_type": "stream",
     "text": [
      "train Phase: 100%|██████████| 1203/1203 [10:00<00:00,  2.00it/s]\n"
     ]
    },
    {
     "name": "stdout",
     "output_type": "stream",
     "text": [
      "train Loss: 1.8185 SCHOOL Acc: 0.3419 TYPE Acc: 0.5834\n"
     ]
    },
    {
     "name": "stderr",
     "output_type": "stream",
     "text": [
      "val Phase: 100%|██████████| 67/67 [00:38<00:00,  1.74it/s]\n"
     ]
    },
    {
     "name": "stdout",
     "output_type": "stream",
     "text": [
      "val Loss: 1.7979 SCHOOL Acc: 0.3405 TYPE Acc: 0.6183\n",
      "No improvement. Patience counter: 4/7\n",
      "\n",
      "Epoch 12/24\n",
      "----------\n"
     ]
    },
    {
     "name": "stderr",
     "output_type": "stream",
     "text": [
      "train Phase: 100%|██████████| 1203/1203 [10:16<00:00,  1.95it/s]\n"
     ]
    },
    {
     "name": "stdout",
     "output_type": "stream",
     "text": [
      "train Loss: 1.8027 SCHOOL Acc: 0.3433 TYPE Acc: 0.5877\n"
     ]
    },
    {
     "name": "stderr",
     "output_type": "stream",
     "text": [
      "val Phase: 100%|██████████| 67/67 [00:39<00:00,  1.68it/s]\n"
     ]
    },
    {
     "name": "stdout",
     "output_type": "stream",
     "text": [
      "val Loss: 1.7916 SCHOOL Acc: 0.3265 TYPE Acc: 0.6230\n",
      "No improvement. Patience counter: 5/7\n",
      "\n",
      "Epoch 13/24\n",
      "----------\n"
     ]
    },
    {
     "name": "stderr",
     "output_type": "stream",
     "text": [
      "train Phase: 100%|██████████| 1203/1203 [09:57<00:00,  2.01it/s]\n"
     ]
    },
    {
     "name": "stdout",
     "output_type": "stream",
     "text": [
      "train Loss: 1.8076 SCHOOL Acc: 0.3440 TYPE Acc: 0.5876\n"
     ]
    },
    {
     "name": "stderr",
     "output_type": "stream",
     "text": [
      "val Phase: 100%|██████████| 67/67 [00:30<00:00,  2.20it/s]\n"
     ]
    },
    {
     "name": "stdout",
     "output_type": "stream",
     "text": [
      "val Loss: 1.7822 SCHOOL Acc: 0.3293 TYPE Acc: 0.6034\n",
      "No improvement. Patience counter: 6/7\n",
      "\n",
      "Epoch 14/24\n",
      "----------\n"
     ]
    },
    {
     "name": "stderr",
     "output_type": "stream",
     "text": [
      "train Phase: 100%|██████████| 1203/1203 [09:23<00:00,  2.13it/s]\n"
     ]
    },
    {
     "name": "stdout",
     "output_type": "stream",
     "text": [
      "train Loss: 1.7909 SCHOOL Acc: 0.3353 TYPE Acc: 0.5841\n"
     ]
    },
    {
     "name": "stderr",
     "output_type": "stream",
     "text": [
      "val Phase: 100%|██████████| 67/67 [00:40<00:00,  1.64it/s]\n"
     ]
    },
    {
     "name": "stdout",
     "output_type": "stream",
     "text": [
      "val Loss: 1.7913 SCHOOL Acc: 0.3265 TYPE Acc: 0.6193\n",
      "No improvement. Patience counter: 7/7\n",
      "\n",
      "Epoch 15/24\n",
      "----------\n"
     ]
    },
    {
     "name": "stderr",
     "output_type": "stream",
     "text": [
      "train Phase: 100%|██████████| 1203/1203 [10:06<00:00,  1.98it/s]\n"
     ]
    },
    {
     "name": "stdout",
     "output_type": "stream",
     "text": [
      "train Loss: 1.7897 SCHOOL Acc: 0.3450 TYPE Acc: 0.5868\n"
     ]
    },
    {
     "name": "stderr",
     "output_type": "stream",
     "text": [
      "val Phase: 100%|██████████| 67/67 [00:30<00:00,  2.21it/s]\n"
     ]
    },
    {
     "name": "stdout",
     "output_type": "stream",
     "text": [
      "val Loss: 1.7804 SCHOOL Acc: 0.3368 TYPE Acc: 0.6277\n",
      "No improvement. Patience counter: 8/7\n",
      "\n",
      "Epoch 16/24\n",
      "----------\n"
     ]
    },
    {
     "name": "stderr",
     "output_type": "stream",
     "text": [
      "train Phase: 100%|██████████| 1203/1203 [09:49<00:00,  2.04it/s]\n"
     ]
    },
    {
     "name": "stdout",
     "output_type": "stream",
     "text": [
      "train Loss: 1.7855 SCHOOL Acc: 0.3460 TYPE Acc: 0.5840\n"
     ]
    },
    {
     "name": "stderr",
     "output_type": "stream",
     "text": [
      "val Phase: 100%|██████████| 67/67 [00:39<00:00,  1.71it/s]\n"
     ]
    },
    {
     "name": "stdout",
     "output_type": "stream",
     "text": [
      "val Loss: 1.7919 SCHOOL Acc: 0.3377 TYPE Acc: 0.6193\n",
      "No improvement. Patience counter: 9/7\n",
      "\n",
      "Epoch 17/24\n",
      "----------\n"
     ]
    },
    {
     "name": "stderr",
     "output_type": "stream",
     "text": [
      "train Phase:   1%|▏         | 18/1203 [00:09<10:44,  1.84it/s]\n"
     ]
    },
    {
     "ename": "KeyboardInterrupt",
     "evalue": "",
     "output_type": "error",
     "traceback": [
      "\u001b[1;31m---------------------------------------------------------------------------\u001b[0m",
      "\u001b[1;31mKeyboardInterrupt\u001b[0m                         Traceback (most recent call last)",
      "Cell \u001b[1;32mIn[43], line 2\u001b[0m\n\u001b[0;32m      1\u001b[0m drive_save_path \u001b[38;5;241m=\u001b[39m \u001b[38;5;124m'\u001b[39m\u001b[38;5;124mC:\u001b[39m\u001b[38;5;130;01m\\\\\u001b[39;00m\u001b[38;5;124mIrina\u001b[39m\u001b[38;5;130;01m\\\\\u001b[39;00m\u001b[38;5;124mmodel\u001b[39m\u001b[38;5;130;01m\\\\\u001b[39;00m\u001b[38;5;124mbest_model_params.pth\u001b[39m\u001b[38;5;124m'\u001b[39m\n\u001b[1;32m----> 2\u001b[0m resnet18 \u001b[38;5;241m=\u001b[39m \u001b[43mtrain_model\u001b[49m\u001b[43m(\u001b[49m\u001b[43mresnet18\u001b[49m\u001b[43m,\u001b[49m\u001b[43m \u001b[49m\u001b[43mcriterion_school\u001b[49m\u001b[43m,\u001b[49m\u001b[43m \u001b[49m\u001b[43mcriterion_type\u001b[49m\u001b[43m,\u001b[49m\u001b[43m \u001b[49m\u001b[43moptimizer\u001b[49m\u001b[43m,\u001b[49m\u001b[43m \u001b[49m\u001b[43mscheduler\u001b[49m\u001b[43m,\u001b[49m\u001b[43m \u001b[49m\u001b[43mdrive_save_path\u001b[49m\u001b[43m,\u001b[49m\u001b[43m \u001b[49m\u001b[43mpatience\u001b[49m\u001b[43m \u001b[49m\u001b[38;5;241;43m=\u001b[39;49m\u001b[43m \u001b[49m\u001b[38;5;241;43m7\u001b[39;49m\u001b[43m,\u001b[49m\u001b[43m \u001b[49m\u001b[43mnum_epochs\u001b[49m\u001b[38;5;241;43m=\u001b[39;49m\u001b[38;5;241;43m25\u001b[39;49m\u001b[43m)\u001b[49m\n",
      "Cell \u001b[1;32mIn[39], line 30\u001b[0m, in \u001b[0;36mtrain_model\u001b[1;34m(model, criterion_school, criterion_type, optimizer, scheduler, drive_save_path, patience, num_epochs)\u001b[0m\n\u001b[0;32m     27\u001b[0m running_corrects_type \u001b[38;5;241m=\u001b[39m \u001b[38;5;241m0\u001b[39m  \u001b[38;5;66;03m# number of correct predictions for type\u001b[39;00m\n\u001b[0;32m     29\u001b[0m \u001b[38;5;66;03m# Iterate over data\u001b[39;00m\n\u001b[1;32m---> 30\u001b[0m \u001b[38;5;28;01mfor\u001b[39;00m inputs, school_labels, type_labels \u001b[38;5;129;01min\u001b[39;00m tqdm(dataloaders[phase], desc\u001b[38;5;241m=\u001b[39m\u001b[38;5;124mf\u001b[39m\u001b[38;5;124m\"\u001b[39m\u001b[38;5;132;01m{\u001b[39;00mphase\u001b[38;5;132;01m}\u001b[39;00m\u001b[38;5;124m Phase\u001b[39m\u001b[38;5;124m\"\u001b[39m):  \u001b[38;5;66;03m# iteration over batches\u001b[39;00m\n\u001b[0;32m     31\u001b[0m     inputs \u001b[38;5;241m=\u001b[39m inputs\u001b[38;5;241m.\u001b[39mto(device)\n\u001b[0;32m     32\u001b[0m     school_labels \u001b[38;5;241m=\u001b[39m school_labels\u001b[38;5;241m.\u001b[39mto(device)\n",
      "File \u001b[1;32mc:\\Users\\Lenovo\\anaconda3\\envs\\cudatest\\lib\\site-packages\\tqdm\\std.py:1181\u001b[0m, in \u001b[0;36mtqdm.__iter__\u001b[1;34m(self)\u001b[0m\n\u001b[0;32m   1178\u001b[0m time \u001b[38;5;241m=\u001b[39m \u001b[38;5;28mself\u001b[39m\u001b[38;5;241m.\u001b[39m_time\n\u001b[0;32m   1180\u001b[0m \u001b[38;5;28;01mtry\u001b[39;00m:\n\u001b[1;32m-> 1181\u001b[0m     \u001b[38;5;28;01mfor\u001b[39;00m obj \u001b[38;5;129;01min\u001b[39;00m iterable:\n\u001b[0;32m   1182\u001b[0m         \u001b[38;5;28;01myield\u001b[39;00m obj\n\u001b[0;32m   1183\u001b[0m         \u001b[38;5;66;03m# Update and possibly print the progressbar.\u001b[39;00m\n\u001b[0;32m   1184\u001b[0m         \u001b[38;5;66;03m# Note: does not call self.update(1) for speed optimisation.\u001b[39;00m\n",
      "File \u001b[1;32mc:\\Users\\Lenovo\\anaconda3\\envs\\cudatest\\lib\\site-packages\\torch\\utils\\data\\dataloader.py:630\u001b[0m, in \u001b[0;36m_BaseDataLoaderIter.__next__\u001b[1;34m(self)\u001b[0m\n\u001b[0;32m    627\u001b[0m \u001b[38;5;28;01mif\u001b[39;00m \u001b[38;5;28mself\u001b[39m\u001b[38;5;241m.\u001b[39m_sampler_iter \u001b[38;5;129;01mis\u001b[39;00m \u001b[38;5;28;01mNone\u001b[39;00m:\n\u001b[0;32m    628\u001b[0m     \u001b[38;5;66;03m# TODO(https://github.com/pytorch/pytorch/issues/76750)\u001b[39;00m\n\u001b[0;32m    629\u001b[0m     \u001b[38;5;28mself\u001b[39m\u001b[38;5;241m.\u001b[39m_reset()  \u001b[38;5;66;03m# type: ignore[call-arg]\u001b[39;00m\n\u001b[1;32m--> 630\u001b[0m data \u001b[38;5;241m=\u001b[39m \u001b[38;5;28;43mself\u001b[39;49m\u001b[38;5;241;43m.\u001b[39;49m\u001b[43m_next_data\u001b[49m\u001b[43m(\u001b[49m\u001b[43m)\u001b[49m\n\u001b[0;32m    631\u001b[0m \u001b[38;5;28mself\u001b[39m\u001b[38;5;241m.\u001b[39m_num_yielded \u001b[38;5;241m+\u001b[39m\u001b[38;5;241m=\u001b[39m \u001b[38;5;241m1\u001b[39m\n\u001b[0;32m    632\u001b[0m \u001b[38;5;28;01mif\u001b[39;00m \u001b[38;5;28mself\u001b[39m\u001b[38;5;241m.\u001b[39m_dataset_kind \u001b[38;5;241m==\u001b[39m _DatasetKind\u001b[38;5;241m.\u001b[39mIterable \u001b[38;5;129;01mand\u001b[39;00m \\\n\u001b[0;32m    633\u001b[0m         \u001b[38;5;28mself\u001b[39m\u001b[38;5;241m.\u001b[39m_IterableDataset_len_called \u001b[38;5;129;01mis\u001b[39;00m \u001b[38;5;129;01mnot\u001b[39;00m \u001b[38;5;28;01mNone\u001b[39;00m \u001b[38;5;129;01mand\u001b[39;00m \\\n\u001b[0;32m    634\u001b[0m         \u001b[38;5;28mself\u001b[39m\u001b[38;5;241m.\u001b[39m_num_yielded \u001b[38;5;241m>\u001b[39m \u001b[38;5;28mself\u001b[39m\u001b[38;5;241m.\u001b[39m_IterableDataset_len_called:\n",
      "File \u001b[1;32mc:\\Users\\Lenovo\\anaconda3\\envs\\cudatest\\lib\\site-packages\\torch\\utils\\data\\dataloader.py:673\u001b[0m, in \u001b[0;36m_SingleProcessDataLoaderIter._next_data\u001b[1;34m(self)\u001b[0m\n\u001b[0;32m    671\u001b[0m \u001b[38;5;28;01mdef\u001b[39;00m \u001b[38;5;21m_next_data\u001b[39m(\u001b[38;5;28mself\u001b[39m):\n\u001b[0;32m    672\u001b[0m     index \u001b[38;5;241m=\u001b[39m \u001b[38;5;28mself\u001b[39m\u001b[38;5;241m.\u001b[39m_next_index()  \u001b[38;5;66;03m# may raise StopIteration\u001b[39;00m\n\u001b[1;32m--> 673\u001b[0m     data \u001b[38;5;241m=\u001b[39m \u001b[38;5;28;43mself\u001b[39;49m\u001b[38;5;241;43m.\u001b[39;49m\u001b[43m_dataset_fetcher\u001b[49m\u001b[38;5;241;43m.\u001b[39;49m\u001b[43mfetch\u001b[49m\u001b[43m(\u001b[49m\u001b[43mindex\u001b[49m\u001b[43m)\u001b[49m  \u001b[38;5;66;03m# may raise StopIteration\u001b[39;00m\n\u001b[0;32m    674\u001b[0m     \u001b[38;5;28;01mif\u001b[39;00m \u001b[38;5;28mself\u001b[39m\u001b[38;5;241m.\u001b[39m_pin_memory:\n\u001b[0;32m    675\u001b[0m         data \u001b[38;5;241m=\u001b[39m _utils\u001b[38;5;241m.\u001b[39mpin_memory\u001b[38;5;241m.\u001b[39mpin_memory(data, \u001b[38;5;28mself\u001b[39m\u001b[38;5;241m.\u001b[39m_pin_memory_device)\n",
      "File \u001b[1;32mc:\\Users\\Lenovo\\anaconda3\\envs\\cudatest\\lib\\site-packages\\torch\\utils\\data\\_utils\\fetch.py:52\u001b[0m, in \u001b[0;36m_MapDatasetFetcher.fetch\u001b[1;34m(self, possibly_batched_index)\u001b[0m\n\u001b[0;32m     50\u001b[0m         data \u001b[38;5;241m=\u001b[39m \u001b[38;5;28mself\u001b[39m\u001b[38;5;241m.\u001b[39mdataset\u001b[38;5;241m.\u001b[39m__getitems__(possibly_batched_index)\n\u001b[0;32m     51\u001b[0m     \u001b[38;5;28;01melse\u001b[39;00m:\n\u001b[1;32m---> 52\u001b[0m         data \u001b[38;5;241m=\u001b[39m [\u001b[38;5;28mself\u001b[39m\u001b[38;5;241m.\u001b[39mdataset[idx] \u001b[38;5;28;01mfor\u001b[39;00m idx \u001b[38;5;129;01min\u001b[39;00m possibly_batched_index]\n\u001b[0;32m     53\u001b[0m \u001b[38;5;28;01melse\u001b[39;00m:\n\u001b[0;32m     54\u001b[0m     data \u001b[38;5;241m=\u001b[39m \u001b[38;5;28mself\u001b[39m\u001b[38;5;241m.\u001b[39mdataset[possibly_batched_index]\n",
      "File \u001b[1;32mc:\\Users\\Lenovo\\anaconda3\\envs\\cudatest\\lib\\site-packages\\torch\\utils\\data\\_utils\\fetch.py:52\u001b[0m, in \u001b[0;36m<listcomp>\u001b[1;34m(.0)\u001b[0m\n\u001b[0;32m     50\u001b[0m         data \u001b[38;5;241m=\u001b[39m \u001b[38;5;28mself\u001b[39m\u001b[38;5;241m.\u001b[39mdataset\u001b[38;5;241m.\u001b[39m__getitems__(possibly_batched_index)\n\u001b[0;32m     51\u001b[0m     \u001b[38;5;28;01melse\u001b[39;00m:\n\u001b[1;32m---> 52\u001b[0m         data \u001b[38;5;241m=\u001b[39m [\u001b[38;5;28;43mself\u001b[39;49m\u001b[38;5;241;43m.\u001b[39;49m\u001b[43mdataset\u001b[49m\u001b[43m[\u001b[49m\u001b[43midx\u001b[49m\u001b[43m]\u001b[49m \u001b[38;5;28;01mfor\u001b[39;00m idx \u001b[38;5;129;01min\u001b[39;00m possibly_batched_index]\n\u001b[0;32m     53\u001b[0m \u001b[38;5;28;01melse\u001b[39;00m:\n\u001b[0;32m     54\u001b[0m     data \u001b[38;5;241m=\u001b[39m \u001b[38;5;28mself\u001b[39m\u001b[38;5;241m.\u001b[39mdataset[possibly_batched_index]\n",
      "Cell \u001b[1;32mIn[33], line 11\u001b[0m, in \u001b[0;36mSEMARTDataset.__getitem__\u001b[1;34m(self, idx)\u001b[0m\n\u001b[0;32m      9\u001b[0m \u001b[38;5;28;01mdef\u001b[39;00m \u001b[38;5;21m__getitem__\u001b[39m(\u001b[38;5;28mself\u001b[39m, idx):\n\u001b[0;32m     10\u001b[0m     img_path \u001b[38;5;241m=\u001b[39m \u001b[38;5;28mself\u001b[39m\u001b[38;5;241m.\u001b[39mdataframe\u001b[38;5;241m.\u001b[39miloc[idx][\u001b[38;5;124m'\u001b[39m\u001b[38;5;124mimage_path\u001b[39m\u001b[38;5;124m'\u001b[39m]\n\u001b[1;32m---> 11\u001b[0m     image \u001b[38;5;241m=\u001b[39m \u001b[43mImage\u001b[49m\u001b[38;5;241;43m.\u001b[39;49m\u001b[43mopen\u001b[49m\u001b[43m(\u001b[49m\u001b[43mimg_path\u001b[49m\u001b[43m)\u001b[49m\u001b[38;5;241;43m.\u001b[39;49m\u001b[43mconvert\u001b[49m\u001b[43m(\u001b[49m\u001b[38;5;124;43m\"\u001b[39;49m\u001b[38;5;124;43mRGB\u001b[39;49m\u001b[38;5;124;43m\"\u001b[39;49m\u001b[43m)\u001b[49m\n\u001b[0;32m     13\u001b[0m     \u001b[38;5;28;01mif\u001b[39;00m \u001b[38;5;28mself\u001b[39m\u001b[38;5;241m.\u001b[39mtransform:\n\u001b[0;32m     14\u001b[0m         image \u001b[38;5;241m=\u001b[39m \u001b[38;5;28mself\u001b[39m\u001b[38;5;241m.\u001b[39mtransform(image)\n",
      "File \u001b[1;32mc:\\Users\\Lenovo\\anaconda3\\envs\\cudatest\\lib\\site-packages\\PIL\\Image.py:995\u001b[0m, in \u001b[0;36mImage.convert\u001b[1;34m(self, mode, matrix, dither, palette, colors)\u001b[0m\n\u001b[0;32m    992\u001b[0m \u001b[38;5;28;01mif\u001b[39;00m mode \u001b[38;5;129;01min\u001b[39;00m (\u001b[38;5;124m\"\u001b[39m\u001b[38;5;124mBGR;15\u001b[39m\u001b[38;5;124m\"\u001b[39m, \u001b[38;5;124m\"\u001b[39m\u001b[38;5;124mBGR;16\u001b[39m\u001b[38;5;124m\"\u001b[39m, \u001b[38;5;124m\"\u001b[39m\u001b[38;5;124mBGR;24\u001b[39m\u001b[38;5;124m\"\u001b[39m):\n\u001b[0;32m    993\u001b[0m     deprecate(mode, \u001b[38;5;241m12\u001b[39m)\n\u001b[1;32m--> 995\u001b[0m \u001b[38;5;28;43mself\u001b[39;49m\u001b[38;5;241;43m.\u001b[39;49m\u001b[43mload\u001b[49m\u001b[43m(\u001b[49m\u001b[43m)\u001b[49m\n\u001b[0;32m    997\u001b[0m has_transparency \u001b[38;5;241m=\u001b[39m \u001b[38;5;124m\"\u001b[39m\u001b[38;5;124mtransparency\u001b[39m\u001b[38;5;124m\"\u001b[39m \u001b[38;5;129;01min\u001b[39;00m \u001b[38;5;28mself\u001b[39m\u001b[38;5;241m.\u001b[39minfo\n\u001b[0;32m    998\u001b[0m \u001b[38;5;28;01mif\u001b[39;00m \u001b[38;5;129;01mnot\u001b[39;00m mode \u001b[38;5;129;01mand\u001b[39;00m \u001b[38;5;28mself\u001b[39m\u001b[38;5;241m.\u001b[39mmode \u001b[38;5;241m==\u001b[39m \u001b[38;5;124m\"\u001b[39m\u001b[38;5;124mP\u001b[39m\u001b[38;5;124m\"\u001b[39m:\n\u001b[0;32m    999\u001b[0m     \u001b[38;5;66;03m# determine default mode\u001b[39;00m\n",
      "File \u001b[1;32mc:\\Users\\Lenovo\\anaconda3\\envs\\cudatest\\lib\\site-packages\\PIL\\ImageFile.py:293\u001b[0m, in \u001b[0;36mImageFile.load\u001b[1;34m(self)\u001b[0m\n\u001b[0;32m    290\u001b[0m         \u001b[38;5;28;01mraise\u001b[39;00m \u001b[38;5;167;01mOSError\u001b[39;00m(msg)\n\u001b[0;32m    292\u001b[0m b \u001b[38;5;241m=\u001b[39m b \u001b[38;5;241m+\u001b[39m s\n\u001b[1;32m--> 293\u001b[0m n, err_code \u001b[38;5;241m=\u001b[39m \u001b[43mdecoder\u001b[49m\u001b[38;5;241;43m.\u001b[39;49m\u001b[43mdecode\u001b[49m\u001b[43m(\u001b[49m\u001b[43mb\u001b[49m\u001b[43m)\u001b[49m\n\u001b[0;32m    294\u001b[0m \u001b[38;5;28;01mif\u001b[39;00m n \u001b[38;5;241m<\u001b[39m \u001b[38;5;241m0\u001b[39m:\n\u001b[0;32m    295\u001b[0m     \u001b[38;5;28;01mbreak\u001b[39;00m\n",
      "\u001b[1;31mKeyboardInterrupt\u001b[0m: "
     ]
    }
   ],
   "source": [
    "drive_save_path = 'C:\\\\Irina\\\\model\\\\best_model_params.pth'\n",
    "resnet18 = train_model(resnet18, criterion_school, criterion_type, optimizer, scheduler, drive_save_path, patience = 7, num_epochs=25)"
   ]
  },
  {
   "cell_type": "code",
   "execution_count": null,
   "metadata": {},
   "outputs": [],
   "source": [
    "from tqdm import tqdm\n",
    "\n",
    "test_loss = 0.0\n",
    "test_corrects_school = 0\n",
    "test_corrects_type = 0\n",
    "\n",
    "with torch.no_grad():\n",
    "    for inputs, school_labels, type_labels in tqdm(dataloaders['test'], desc=\"Test Evaluation\"):\n",
    "        inputs = inputs.to(device)\n",
    "        school_labels = school_labels.to(device)\n",
    "        type_labels = type_labels.to(device)\n",
    "\n",
    "        outputs = resnet18(inputs)\n",
    "        outputs_school = outputs[:, :num_classes_school]\n",
    "        outputs_type = outputs[:, num_classes_school:]\n",
    "\n",
    "        loss_school = criterion_school(outputs_school, school_labels)\n",
    "        loss_type = criterion_type(outputs_type, type_labels)\n",
    "        loss = 0.5 * loss_school + 0.5 * loss_type\n",
    "\n",
    "        _, preds_school = torch.max(outputs_school, 1)\n",
    "        _, preds_type = torch.max(outputs_type, 1)\n",
    "\n",
    "        test_loss += loss.item() * inputs.size(0)\n",
    "        test_corrects_school += torch.sum(preds_school == school_labels.data)\n",
    "        test_corrects_type += torch.sum(preds_type == type_labels.data)\n",
    "\n",
    "test_loss /= dataset_sizes['test']\n",
    "test_acc_school = test_corrects_school.double() / dataset_sizes['test']\n",
    "test_acc_type = test_corrects_type.double() / dataset_sizes['test']\n",
    "\n",
    "print(f\"Test Loss: {test_loss:.4f}\")\n",
    "print(f\"SCHOOL Test Accuracy: {test_acc_school:.4f}\")\n",
    "print(f\"TYPE Test Accuracy: {test_acc_type:.4f}\")"
   ]
  },
  {
   "cell_type": "code",
   "execution_count": 30,
   "metadata": {},
   "outputs": [
    {
     "data": {
      "text/html": [
       "Tracking run with wandb version 0.19.0"
      ],
      "text/plain": [
       "<IPython.core.display.HTML object>"
      ]
     },
     "metadata": {},
     "output_type": "display_data"
    },
    {
     "data": {
      "text/html": [
       "Run data is saved locally in <code>c:\\Users\\Lenovo\\Downloads\\wandb\\run-20241208_235234-01jw57c9</code>"
      ],
      "text/plain": [
       "<IPython.core.display.HTML object>"
      ]
     },
     "metadata": {},
     "output_type": "display_data"
    },
    {
     "data": {
      "text/html": [
       "Syncing run <strong><a href='https://wandb.ai/olteanirina1-babes-bolyai-university/FESemArtDataset/runs/01jw57c9' target=\"_blank\">ResNet18-FineTuningTry3</a></strong> to <a href='https://wandb.ai/olteanirina1-babes-bolyai-university/FESemArtDataset' target=\"_blank\">Weights & Biases</a> (<a href='https://wandb.me/developer-guide' target=\"_blank\">docs</a>)<br/>"
      ],
      "text/plain": [
       "<IPython.core.display.HTML object>"
      ]
     },
     "metadata": {},
     "output_type": "display_data"
    },
    {
     "data": {
      "text/html": [
       " View project at <a href='https://wandb.ai/olteanirina1-babes-bolyai-university/FESemArtDataset' target=\"_blank\">https://wandb.ai/olteanirina1-babes-bolyai-university/FESemArtDataset</a>"
      ],
      "text/plain": [
       "<IPython.core.display.HTML object>"
      ]
     },
     "metadata": {},
     "output_type": "display_data"
    },
    {
     "data": {
      "text/html": [
       " View run at <a href='https://wandb.ai/olteanirina1-babes-bolyai-university/FESemArtDataset/runs/01jw57c9' target=\"_blank\">https://wandb.ai/olteanirina1-babes-bolyai-university/FESemArtDataset/runs/01jw57c9</a>"
      ],
      "text/plain": [
       "<IPython.core.display.HTML object>"
      ]
     },
     "metadata": {},
     "output_type": "display_data"
    },
    {
     "data": {
      "text/html": [
       "<button onClick=\"this.nextSibling.style.display='block';this.style.display='none';\">Display W&B run</button><iframe src='https://wandb.ai/olteanirina1-babes-bolyai-university/FESemArtDataset/runs/01jw57c9?jupyter=true' style='border:none;width:100%;height:420px;display:none;'></iframe>"
      ],
      "text/plain": [
       "<wandb.sdk.wandb_run.Run at 0x1f044b2cf10>"
      ]
     },
     "execution_count": 30,
     "metadata": {},
     "output_type": "execute_result"
    }
   ],
   "source": [
    "import wandb\n",
    "wandb.login()\n",
    "wandb.init(\n",
    "    project=\"FESemArtDataset\",  # Numele proiectului\n",
    "    name=\"ResNet18-FineTuningTry3\",  # Numele experimentului\n",
    "    config={\n",
    "        \"learning_rate\": 0.0001,\n",
    "        \"epochs\": 25,\n",
    "        \"batch_size\": batch_size,\n",
    "        \"patience\": 7\n",
    "    }\n",
    ")"
   ]
  },
  {
   "cell_type": "code",
   "execution_count": 31,
   "metadata": {},
   "outputs": [],
   "source": [
    "resnet18_ft = models.resnet18(weights=models.ResNet18_Weights.DEFAULT)\n",
    "\n",
    "num_features = resnet18_ft.fc.in_features\n",
    "resnet18_ft.fc = nn.Sequential(\n",
    "    nn.Linear(num_features, 512),  # Un strat ascuns intermediar\n",
    "    nn.ReLU(),\n",
    "    nn.Linear(512, num_classes_school + num_classes_type)  # Ieșiri pentru SCHOOL și TYPE\n",
    ")\n",
    "\n",
    "resnet18_ft = resnet18_ft.to(device)\n",
    "optimizer_ft = optim.Adam(resnet18_ft.parameters(), lr=1e-4, weight_decay=1e-5)\n",
    "\n",
    "scheduler_ft = optim.lr_scheduler.ReduceLROnPlateau(optimizer_ft, mode='max', patience=3, factor=0.5)"
   ]
  },
  {
   "cell_type": "code",
   "execution_count": 32,
   "metadata": {},
   "outputs": [
    {
     "name": "stdout",
     "output_type": "stream",
     "text": [
      "Epoch 0/24\n",
      "----------\n"
     ]
    },
    {
     "name": "stderr",
     "output_type": "stream",
     "text": [
      "train Phase: 100%|██████████| 602/602 [12:55<00:00,  1.29s/it]\n"
     ]
    },
    {
     "name": "stdout",
     "output_type": "stream",
     "text": [
      "train Loss: 2.2357 SCHOOL Acc: 0.2133 TYPE Acc: 0.5233 AVG Acc: 0.3683\n"
     ]
    },
    {
     "name": "stderr",
     "output_type": "stream",
     "text": [
      "val Phase: 100%|██████████| 34/34 [00:37<00:00,  1.12s/it]\n"
     ]
    },
    {
     "name": "stdout",
     "output_type": "stream",
     "text": [
      "val Loss: 1.9290 SCHOOL Acc: 0.2544 TYPE Acc: 0.5875 AVG Acc: 0.4210\n",
      "New best model found! Saving to C:\\Irina\\model\\best_model_params_ft18.pth\n",
      "\n",
      "Epoch 1/24\n",
      "----------\n"
     ]
    },
    {
     "name": "stderr",
     "output_type": "stream",
     "text": [
      "train Phase: 100%|██████████| 602/602 [12:14<00:00,  1.22s/it]\n"
     ]
    },
    {
     "name": "stdout",
     "output_type": "stream",
     "text": [
      "train Loss: 1.9643 SCHOOL Acc: 0.2905 TYPE Acc: 0.5871 AVG Acc: 0.4388\n"
     ]
    },
    {
     "name": "stderr",
     "output_type": "stream",
     "text": [
      "val Phase: 100%|██████████| 34/34 [00:38<00:00,  1.13s/it]\n"
     ]
    },
    {
     "name": "stdout",
     "output_type": "stream",
     "text": [
      "val Loss: 1.8714 SCHOOL Acc: 0.3096 TYPE Acc: 0.6230 AVG Acc: 0.4663\n",
      "New best model found! Saving to C:\\Irina\\model\\best_model_params_ft18.pth\n",
      "\n",
      "Epoch 2/24\n",
      "----------\n"
     ]
    },
    {
     "name": "stderr",
     "output_type": "stream",
     "text": [
      "train Phase: 100%|██████████| 602/602 [13:02<00:00,  1.30s/it]\n"
     ]
    },
    {
     "name": "stdout",
     "output_type": "stream",
     "text": [
      "train Loss: 1.8536 SCHOOL Acc: 0.2939 TYPE Acc: 0.5971 AVG Acc: 0.4455\n"
     ]
    },
    {
     "name": "stderr",
     "output_type": "stream",
     "text": [
      "val Phase: 100%|██████████| 34/34 [00:38<00:00,  1.13s/it]\n"
     ]
    },
    {
     "name": "stdout",
     "output_type": "stream",
     "text": [
      "val Loss: 1.8057 SCHOOL Acc: 0.3854 TYPE Acc: 0.5931 AVG Acc: 0.4892\n",
      "New best model found! Saving to C:\\Irina\\model\\best_model_params_ft18.pth\n",
      "\n",
      "Epoch 3/24\n",
      "----------\n"
     ]
    },
    {
     "name": "stderr",
     "output_type": "stream",
     "text": [
      "train Phase: 100%|██████████| 602/602 [11:03<00:00,  1.10s/it]\n"
     ]
    },
    {
     "name": "stdout",
     "output_type": "stream",
     "text": [
      "train Loss: 1.7338 SCHOOL Acc: 0.3261 TYPE Acc: 0.6100 AVG Acc: 0.4680\n"
     ]
    },
    {
     "name": "stderr",
     "output_type": "stream",
     "text": [
      "val Phase: 100%|██████████| 34/34 [00:38<00:00,  1.14s/it]\n"
     ]
    },
    {
     "name": "stdout",
     "output_type": "stream",
     "text": [
      "val Loss: 1.8121 SCHOOL Acc: 0.3835 TYPE Acc: 0.6735 AVG Acc: 0.5285\n",
      "New best model found! Saving to C:\\Irina\\model\\best_model_params_ft18.pth\n",
      "\n",
      "Epoch 4/24\n",
      "----------\n"
     ]
    },
    {
     "name": "stderr",
     "output_type": "stream",
     "text": [
      "train Phase: 100%|██████████| 602/602 [13:06<00:00,  1.31s/it]\n"
     ]
    },
    {
     "name": "stdout",
     "output_type": "stream",
     "text": [
      "train Loss: 1.6556 SCHOOL Acc: 0.3313 TYPE Acc: 0.6258 AVG Acc: 0.4785\n"
     ]
    },
    {
     "name": "stderr",
     "output_type": "stream",
     "text": [
      "val Phase: 100%|██████████| 34/34 [00:38<00:00,  1.12s/it]\n"
     ]
    },
    {
     "name": "stdout",
     "output_type": "stream",
     "text": [
      "val Loss: 1.8635 SCHOOL Acc: 0.3779 TYPE Acc: 0.6698 AVG Acc: 0.5239\n",
      "No improvement. Patience counter: 1/7\n",
      "\n",
      "Epoch 5/24\n",
      "----------\n"
     ]
    },
    {
     "name": "stderr",
     "output_type": "stream",
     "text": [
      "train Phase: 100%|██████████| 602/602 [12:42<00:00,  1.27s/it]\n"
     ]
    },
    {
     "name": "stdout",
     "output_type": "stream",
     "text": [
      "train Loss: 1.5874 SCHOOL Acc: 0.3417 TYPE Acc: 0.6273 AVG Acc: 0.4845\n"
     ]
    },
    {
     "name": "stderr",
     "output_type": "stream",
     "text": [
      "val Phase: 100%|██████████| 34/34 [00:37<00:00,  1.10s/it]\n"
     ]
    },
    {
     "name": "stdout",
     "output_type": "stream",
     "text": [
      "val Loss: 1.8795 SCHOOL Acc: 0.3770 TYPE Acc: 0.6763 AVG Acc: 0.5267\n",
      "No improvement. Patience counter: 2/7\n",
      "\n",
      "Epoch 6/24\n",
      "----------\n"
     ]
    },
    {
     "name": "stderr",
     "output_type": "stream",
     "text": [
      "train Phase: 100%|██████████| 602/602 [12:19<00:00,  1.23s/it]\n"
     ]
    },
    {
     "name": "stdout",
     "output_type": "stream",
     "text": [
      "train Loss: 1.4995 SCHOOL Acc: 0.3510 TYPE Acc: 0.6331 AVG Acc: 0.4920\n"
     ]
    },
    {
     "name": "stderr",
     "output_type": "stream",
     "text": [
      "val Phase: 100%|██████████| 34/34 [00:30<00:00,  1.10it/s]\n"
     ]
    },
    {
     "name": "stdout",
     "output_type": "stream",
     "text": [
      "val Loss: 1.7929 SCHOOL Acc: 0.3414 TYPE Acc: 0.6848 AVG Acc: 0.5131\n",
      "No improvement. Patience counter: 3/7\n",
      "\n",
      "Epoch 7/24\n",
      "----------\n"
     ]
    },
    {
     "name": "stderr",
     "output_type": "stream",
     "text": [
      "train Phase: 100%|██████████| 602/602 [12:04<00:00,  1.20s/it]\n"
     ]
    },
    {
     "name": "stdout",
     "output_type": "stream",
     "text": [
      "train Loss: 1.4347 SCHOOL Acc: 0.3669 TYPE Acc: 0.6457 AVG Acc: 0.5063\n"
     ]
    },
    {
     "name": "stderr",
     "output_type": "stream",
     "text": [
      "val Phase: 100%|██████████| 34/34 [00:37<00:00,  1.10s/it]\n"
     ]
    },
    {
     "name": "stdout",
     "output_type": "stream",
     "text": [
      "val Loss: 1.8426 SCHOOL Acc: 0.3704 TYPE Acc: 0.6595 AVG Acc: 0.5150\n",
      "No improvement. Patience counter: 4/7\n",
      "\n",
      "Epoch 8/24\n",
      "----------\n"
     ]
    },
    {
     "name": "stderr",
     "output_type": "stream",
     "text": [
      "train Phase: 100%|██████████| 602/602 [12:46<00:00,  1.27s/it]\n"
     ]
    },
    {
     "name": "stdout",
     "output_type": "stream",
     "text": [
      "train Loss: 1.3762 SCHOOL Acc: 0.3822 TYPE Acc: 0.6460 AVG Acc: 0.5141\n"
     ]
    },
    {
     "name": "stderr",
     "output_type": "stream",
     "text": [
      "val Phase: 100%|██████████| 34/34 [00:36<00:00,  1.08s/it]\n"
     ]
    },
    {
     "name": "stdout",
     "output_type": "stream",
     "text": [
      "val Loss: 1.8727 SCHOOL Acc: 0.2881 TYPE Acc: 0.6679 AVG Acc: 0.4780\n",
      "No improvement. Patience counter: 5/7\n",
      "\n",
      "Epoch 9/24\n",
      "----------\n"
     ]
    },
    {
     "name": "stderr",
     "output_type": "stream",
     "text": [
      "train Phase: 100%|██████████| 602/602 [12:47<00:00,  1.27s/it]\n"
     ]
    },
    {
     "name": "stdout",
     "output_type": "stream",
     "text": [
      "train Loss: 1.2745 SCHOOL Acc: 0.3937 TYPE Acc: 0.6577 AVG Acc: 0.5257\n"
     ]
    },
    {
     "name": "stderr",
     "output_type": "stream",
     "text": [
      "val Phase: 100%|██████████| 34/34 [00:37<00:00,  1.10s/it]\n"
     ]
    },
    {
     "name": "stdout",
     "output_type": "stream",
     "text": [
      "val Loss: 1.9568 SCHOOL Acc: 0.3050 TYPE Acc: 0.6548 AVG Acc: 0.4799\n",
      "No improvement. Patience counter: 6/7\n",
      "\n",
      "Epoch 10/24\n",
      "----------\n"
     ]
    },
    {
     "name": "stderr",
     "output_type": "stream",
     "text": [
      "train Phase: 100%|██████████| 602/602 [11:22<00:00,  1.13s/it]\n"
     ]
    },
    {
     "name": "stdout",
     "output_type": "stream",
     "text": [
      "train Loss: 1.2606 SCHOOL Acc: 0.3920 TYPE Acc: 0.6553 AVG Acc: 0.5236\n"
     ]
    },
    {
     "name": "stderr",
     "output_type": "stream",
     "text": [
      "val Phase: 100%|██████████| 34/34 [00:36<00:00,  1.09s/it]\n"
     ]
    },
    {
     "name": "stdout",
     "output_type": "stream",
     "text": [
      "val Loss: 1.9366 SCHOOL Acc: 0.3882 TYPE Acc: 0.6782 AVG Acc: 0.5332\n",
      "New best model found! Saving to C:\\Irina\\model\\best_model_params_ft18.pth\n",
      "\n",
      "Epoch 11/24\n",
      "----------\n"
     ]
    },
    {
     "name": "stderr",
     "output_type": "stream",
     "text": [
      "train Phase: 100%|██████████| 602/602 [12:44<00:00,  1.27s/it]\n"
     ]
    },
    {
     "name": "stdout",
     "output_type": "stream",
     "text": [
      "train Loss: 1.1989 SCHOOL Acc: 0.4043 TYPE Acc: 0.6641 AVG Acc: 0.5342\n"
     ]
    },
    {
     "name": "stderr",
     "output_type": "stream",
     "text": [
      "val Phase: 100%|██████████| 34/34 [00:36<00:00,  1.07s/it]\n"
     ]
    },
    {
     "name": "stdout",
     "output_type": "stream",
     "text": [
      "val Loss: 2.0339 SCHOOL Acc: 0.4228 TYPE Acc: 0.6614 AVG Acc: 0.5421\n",
      "New best model found! Saving to C:\\Irina\\model\\best_model_params_ft18.pth\n",
      "\n",
      "Epoch 12/24\n",
      "----------\n"
     ]
    },
    {
     "name": "stderr",
     "output_type": "stream",
     "text": [
      "train Phase: 100%|██████████| 602/602 [12:46<00:00,  1.27s/it]\n"
     ]
    },
    {
     "name": "stdout",
     "output_type": "stream",
     "text": [
      "train Loss: 1.1441 SCHOOL Acc: 0.4120 TYPE Acc: 0.6706 AVG Acc: 0.5413\n"
     ]
    },
    {
     "name": "stderr",
     "output_type": "stream",
     "text": [
      "val Phase: 100%|██████████| 34/34 [00:36<00:00,  1.09s/it]\n"
     ]
    },
    {
     "name": "stdout",
     "output_type": "stream",
     "text": [
      "val Loss: 1.9010 SCHOOL Acc: 0.4312 TYPE Acc: 0.6717 AVG Acc: 0.5514\n",
      "New best model found! Saving to C:\\Irina\\model\\best_model_params_ft18.pth\n",
      "\n",
      "Epoch 13/24\n",
      "----------\n"
     ]
    },
    {
     "name": "stderr",
     "output_type": "stream",
     "text": [
      "train Phase: 100%|██████████| 602/602 [12:45<00:00,  1.27s/it]\n"
     ]
    },
    {
     "name": "stdout",
     "output_type": "stream",
     "text": [
      "train Loss: 1.1035 SCHOOL Acc: 0.4330 TYPE Acc: 0.6740 AVG Acc: 0.5535\n"
     ]
    },
    {
     "name": "stderr",
     "output_type": "stream",
     "text": [
      "val Phase: 100%|██████████| 34/34 [00:37<00:00,  1.10s/it]\n"
     ]
    },
    {
     "name": "stdout",
     "output_type": "stream",
     "text": [
      "val Loss: 1.9241 SCHOOL Acc: 0.4060 TYPE Acc: 0.6922 AVG Acc: 0.5491\n",
      "No improvement. Patience counter: 1/7\n",
      "\n",
      "Epoch 14/24\n",
      "----------\n"
     ]
    },
    {
     "name": "stderr",
     "output_type": "stream",
     "text": [
      "train Phase: 100%|██████████| 602/602 [12:06<00:00,  1.21s/it]\n"
     ]
    },
    {
     "name": "stdout",
     "output_type": "stream",
     "text": [
      "train Loss: 1.0443 SCHOOL Acc: 0.4377 TYPE Acc: 0.6791 AVG Acc: 0.5584\n"
     ]
    },
    {
     "name": "stderr",
     "output_type": "stream",
     "text": [
      "val Phase: 100%|██████████| 34/34 [00:30<00:00,  1.10it/s]\n"
     ]
    },
    {
     "name": "stdout",
     "output_type": "stream",
     "text": [
      "val Loss: 2.0268 SCHOOL Acc: 0.4022 TYPE Acc: 0.6688 AVG Acc: 0.5355\n",
      "No improvement. Patience counter: 2/7\n",
      "\n",
      "Epoch 15/24\n",
      "----------\n"
     ]
    },
    {
     "name": "stderr",
     "output_type": "stream",
     "text": [
      "train Phase: 100%|██████████| 602/602 [12:35<00:00,  1.25s/it]\n"
     ]
    },
    {
     "name": "stdout",
     "output_type": "stream",
     "text": [
      "train Loss: 1.0655 SCHOOL Acc: 0.4427 TYPE Acc: 0.6805 AVG Acc: 0.5616\n"
     ]
    },
    {
     "name": "stderr",
     "output_type": "stream",
     "text": [
      "val Phase: 100%|██████████| 34/34 [00:30<00:00,  1.11it/s]\n"
     ]
    },
    {
     "name": "stdout",
     "output_type": "stream",
     "text": [
      "val Loss: 1.9447 SCHOOL Acc: 0.3817 TYPE Acc: 0.6670 AVG Acc: 0.5243\n",
      "No improvement. Patience counter: 3/7\n",
      "\n",
      "Epoch 16/24\n",
      "----------\n"
     ]
    },
    {
     "name": "stderr",
     "output_type": "stream",
     "text": [
      "train Phase: 100%|██████████| 602/602 [12:08<00:00,  1.21s/it]\n"
     ]
    },
    {
     "name": "stdout",
     "output_type": "stream",
     "text": [
      "train Loss: 1.0191 SCHOOL Acc: 0.4493 TYPE Acc: 0.6856 AVG Acc: 0.5675\n"
     ]
    },
    {
     "name": "stderr",
     "output_type": "stream",
     "text": [
      "val Phase: 100%|██████████| 34/34 [00:36<00:00,  1.08s/it]\n"
     ]
    },
    {
     "name": "stdout",
     "output_type": "stream",
     "text": [
      "val Loss: 1.9706 SCHOOL Acc: 0.4097 TYPE Acc: 0.6857 AVG Acc: 0.5477\n",
      "No improvement. Patience counter: 4/7\n",
      "\n",
      "Epoch 17/24\n",
      "----------\n"
     ]
    },
    {
     "name": "stderr",
     "output_type": "stream",
     "text": [
      "train Phase: 100%|██████████| 602/602 [12:45<00:00,  1.27s/it]\n"
     ]
    },
    {
     "name": "stdout",
     "output_type": "stream",
     "text": [
      "train Loss: 1.0046 SCHOOL Acc: 0.4615 TYPE Acc: 0.6892 AVG Acc: 0.5754\n"
     ]
    },
    {
     "name": "stderr",
     "output_type": "stream",
     "text": [
      "val Phase: 100%|██████████| 34/34 [00:37<00:00,  1.11s/it]\n"
     ]
    },
    {
     "name": "stdout",
     "output_type": "stream",
     "text": [
      "val Loss: 2.2022 SCHOOL Acc: 0.4294 TYPE Acc: 0.6782 AVG Acc: 0.5538\n",
      "New best model found! Saving to C:\\Irina\\model\\best_model_params_ft18.pth\n",
      "\n",
      "Epoch 18/24\n",
      "----------\n"
     ]
    },
    {
     "name": "stderr",
     "output_type": "stream",
     "text": [
      "train Phase: 100%|██████████| 602/602 [12:08<00:00,  1.21s/it]\n"
     ]
    },
    {
     "name": "stdout",
     "output_type": "stream",
     "text": [
      "train Loss: 0.9620 SCHOOL Acc: 0.4752 TYPE Acc: 0.6962 AVG Acc: 0.5857\n"
     ]
    },
    {
     "name": "stderr",
     "output_type": "stream",
     "text": [
      "val Phase: 100%|██████████| 34/34 [00:36<00:00,  1.08s/it]\n"
     ]
    },
    {
     "name": "stdout",
     "output_type": "stream",
     "text": [
      "val Loss: 2.1952 SCHOOL Acc: 0.4341 TYPE Acc: 0.6810 AVG Acc: 0.5575\n",
      "New best model found! Saving to C:\\Irina\\model\\best_model_params_ft18.pth\n",
      "\n",
      "Epoch 19/24\n",
      "----------\n"
     ]
    },
    {
     "name": "stderr",
     "output_type": "stream",
     "text": [
      "train Phase: 100%|██████████| 602/602 [12:47<00:00,  1.28s/it]\n"
     ]
    },
    {
     "name": "stdout",
     "output_type": "stream",
     "text": [
      "train Loss: 0.9357 SCHOOL Acc: 0.4733 TYPE Acc: 0.6953 AVG Acc: 0.5843\n"
     ]
    },
    {
     "name": "stderr",
     "output_type": "stream",
     "text": [
      "val Phase: 100%|██████████| 34/34 [00:36<00:00,  1.08s/it]\n"
     ]
    },
    {
     "name": "stdout",
     "output_type": "stream",
     "text": [
      "val Loss: 2.0186 SCHOOL Acc: 0.4359 TYPE Acc: 0.6745 AVG Acc: 0.5552\n",
      "No improvement. Patience counter: 1/7\n",
      "\n",
      "Epoch 20/24\n",
      "----------\n"
     ]
    },
    {
     "name": "stderr",
     "output_type": "stream",
     "text": [
      "train Phase: 100%|██████████| 602/602 [11:48<00:00,  1.18s/it]\n"
     ]
    },
    {
     "name": "stdout",
     "output_type": "stream",
     "text": [
      "train Loss: 0.8822 SCHOOL Acc: 0.4835 TYPE Acc: 0.7037 AVG Acc: 0.5936\n"
     ]
    },
    {
     "name": "stderr",
     "output_type": "stream",
     "text": [
      "val Phase: 100%|██████████| 34/34 [00:37<00:00,  1.09s/it]\n"
     ]
    },
    {
     "name": "stdout",
     "output_type": "stream",
     "text": [
      "val Loss: 2.1195 SCHOOL Acc: 0.4500 TYPE Acc: 0.6932 AVG Acc: 0.5716\n",
      "New best model found! Saving to C:\\Irina\\model\\best_model_params_ft18.pth\n",
      "\n",
      "Epoch 21/24\n",
      "----------\n"
     ]
    },
    {
     "name": "stderr",
     "output_type": "stream",
     "text": [
      "train Phase: 100%|██████████| 602/602 [12:05<00:00,  1.21s/it]\n"
     ]
    },
    {
     "name": "stdout",
     "output_type": "stream",
     "text": [
      "train Loss: 0.8698 SCHOOL Acc: 0.4962 TYPE Acc: 0.7109 AVG Acc: 0.6035\n"
     ]
    },
    {
     "name": "stderr",
     "output_type": "stream",
     "text": [
      "val Phase: 100%|██████████| 34/34 [00:37<00:00,  1.10s/it]\n"
     ]
    },
    {
     "name": "stdout",
     "output_type": "stream",
     "text": [
      "val Loss: 2.2625 SCHOOL Acc: 0.4902 TYPE Acc: 0.6922 AVG Acc: 0.5912\n",
      "New best model found! Saving to C:\\Irina\\model\\best_model_params_ft18.pth\n",
      "\n",
      "Epoch 22/24\n",
      "----------\n"
     ]
    },
    {
     "name": "stderr",
     "output_type": "stream",
     "text": [
      "train Phase: 100%|██████████| 602/602 [12:05<00:00,  1.20s/it]\n"
     ]
    },
    {
     "name": "stdout",
     "output_type": "stream",
     "text": [
      "train Loss: 0.8972 SCHOOL Acc: 0.4915 TYPE Acc: 0.7084 AVG Acc: 0.6000\n"
     ]
    },
    {
     "name": "stderr",
     "output_type": "stream",
     "text": [
      "val Phase: 100%|██████████| 34/34 [00:36<00:00,  1.09s/it]\n"
     ]
    },
    {
     "name": "stdout",
     "output_type": "stream",
     "text": [
      "val Loss: 2.2553 SCHOOL Acc: 0.4818 TYPE Acc: 0.7203 AVG Acc: 0.6010\n",
      "New best model found! Saving to C:\\Irina\\model\\best_model_params_ft18.pth\n",
      "\n",
      "Epoch 23/24\n",
      "----------\n"
     ]
    },
    {
     "name": "stderr",
     "output_type": "stream",
     "text": [
      "train Phase: 100%|██████████| 602/602 [12:50<00:00,  1.28s/it]\n"
     ]
    },
    {
     "name": "stdout",
     "output_type": "stream",
     "text": [
      "train Loss: 0.8642 SCHOOL Acc: 0.5055 TYPE Acc: 0.7140 AVG Acc: 0.6098\n"
     ]
    },
    {
     "name": "stderr",
     "output_type": "stream",
     "text": [
      "val Phase: 100%|██████████| 34/34 [00:36<00:00,  1.09s/it]\n"
     ]
    },
    {
     "name": "stdout",
     "output_type": "stream",
     "text": [
      "val Loss: 2.2794 SCHOOL Acc: 0.4500 TYPE Acc: 0.7156 AVG Acc: 0.5828\n",
      "No improvement. Patience counter: 1/7\n",
      "\n",
      "Epoch 24/24\n",
      "----------\n"
     ]
    },
    {
     "name": "stderr",
     "output_type": "stream",
     "text": [
      "train Phase: 100%|██████████| 602/602 [12:47<00:00,  1.27s/it]\n"
     ]
    },
    {
     "name": "stdout",
     "output_type": "stream",
     "text": [
      "train Loss: 0.8770 SCHOOL Acc: 0.4842 TYPE Acc: 0.7119 AVG Acc: 0.5980\n"
     ]
    },
    {
     "name": "stderr",
     "output_type": "stream",
     "text": [
      "val Phase: 100%|██████████| 34/34 [00:37<00:00,  1.10s/it]\n"
     ]
    },
    {
     "name": "stdout",
     "output_type": "stream",
     "text": [
      "val Loss: 2.0209 SCHOOL Acc: 0.4537 TYPE Acc: 0.6950 AVG Acc: 0.5744\n",
      "No improvement. Patience counter: 2/7\n",
      "\n",
      "Training complete in 326m 6s\n",
      "Best val Avg Acc: 0.601029\n"
     ]
    },
    {
     "data": {
      "text/html": [
       "\n",
       "    <style>\n",
       "        .wandb-row {\n",
       "            display: flex;\n",
       "            flex-direction: row;\n",
       "            flex-wrap: wrap;\n",
       "            justify-content: flex-start;\n",
       "            width: 100%;\n",
       "        }\n",
       "        .wandb-col {\n",
       "            display: flex;\n",
       "            flex-direction: column;\n",
       "            flex-basis: 100%;\n",
       "            flex: 1;\n",
       "            padding: 10px;\n",
       "        }\n",
       "    </style>\n",
       "<div class=\"wandb-row\"><div class=\"wandb-col\"><h3>Run history:</h3><br/><table class=\"wandb\"><tr><td>epoch</td><td>▁▁▁▁▂▂▂▂▂▂▃▃▃▃▃▄▄▄▄▄▅▅▅▅▅▅▅▆▆▆▆▇▇▇▇▇▇███</td></tr><tr><td>train_avg_acc</td><td>▁▃▃▄▄▄▅▅▅▆▆▆▆▆▇▇▇▇▇▇█████</td></tr><tr><td>train_loss</td><td>█▇▆▅▅▅▄▄▄▃▃▃▂▂▂▂▂▂▁▁▁▁▁▁▁</td></tr><tr><td>train_school_acc</td><td>▁▃▃▄▄▄▄▅▅▅▅▆▆▆▆▆▇▇▇▇▇███▇</td></tr><tr><td>train_type_acc</td><td>▁▃▄▄▅▅▅▅▆▆▆▆▆▇▇▇▇▇▇▇█████</td></tr><tr><td>val_avg_acc</td><td>▁▃▄▅▅▅▅▅▃▃▅▆▆▆▅▅▆▆▆▆▇██▇▇</td></tr><tr><td>val_loss</td><td>▃▂▁▁▂▂▁▂▂▃▃▄▃▃▄▃▄▇▇▄▆███▄</td></tr><tr><td>val_school_acc</td><td>▁▃▅▅▅▅▄▄▂▂▅▆▆▅▅▅▆▆▆▆▇██▇▇</td></tr><tr><td>val_type_acc</td><td>▁▃▁▆▅▆▆▅▅▅▆▅▅▇▅▅▆▆▆▆▇▇██▇</td></tr></table><br/></div><div class=\"wandb-col\"><h3>Run summary:</h3><br/><table class=\"wandb\"><tr><td>epoch</td><td>24</td></tr><tr><td>train_avg_acc</td><td>0.598</td></tr><tr><td>train_loss</td><td>0.87695</td></tr><tr><td>train_school_acc</td><td>0.48415</td></tr><tr><td>train_type_acc</td><td>0.71186</td></tr><tr><td>val_avg_acc</td><td>0.57437</td></tr><tr><td>val_loss</td><td>2.02091</td></tr><tr><td>val_school_acc</td><td>0.4537</td></tr><tr><td>val_type_acc</td><td>0.69504</td></tr></table><br/></div></div>"
      ],
      "text/plain": [
       "<IPython.core.display.HTML object>"
      ]
     },
     "metadata": {},
     "output_type": "display_data"
    },
    {
     "data": {
      "text/html": [
       " View run <strong style=\"color:#cdcd00\">ResNet18-FineTuningTry3</strong> at: <a href='https://wandb.ai/olteanirina1-babes-bolyai-university/FESemArtDataset/runs/01jw57c9' target=\"_blank\">https://wandb.ai/olteanirina1-babes-bolyai-university/FESemArtDataset/runs/01jw57c9</a><br/> View project at: <a href='https://wandb.ai/olteanirina1-babes-bolyai-university/FESemArtDataset' target=\"_blank\">https://wandb.ai/olteanirina1-babes-bolyai-university/FESemArtDataset</a><br/>Synced 5 W&B file(s), 0 media file(s), 0 artifact file(s) and 0 other file(s)"
      ],
      "text/plain": [
       "<IPython.core.display.HTML object>"
      ]
     },
     "metadata": {},
     "output_type": "display_data"
    },
    {
     "data": {
      "text/html": [
       "Find logs at: <code>.\\wandb\\run-20241208_235234-01jw57c9\\logs</code>"
      ],
      "text/plain": [
       "<IPython.core.display.HTML object>"
      ]
     },
     "metadata": {},
     "output_type": "display_data"
    }
   ],
   "source": [
    "drive_save_path_ft = 'C:\\\\Irina\\\\model\\\\best_model_params_ft18.pth'\n",
    "resnet18_ft = train_model(resnet18_ft, criterion_school, criterion_type, optimizer_ft, scheduler_ft, drive_save_path_ft, patience = 7, num_epochs=25)"
   ]
  },
  {
   "cell_type": "code",
   "execution_count": 29,
   "metadata": {},
   "outputs": [
    {
     "data": {
      "text/html": [
       "\n",
       "    <style>\n",
       "        .wandb-row {\n",
       "            display: flex;\n",
       "            flex-direction: row;\n",
       "            flex-wrap: wrap;\n",
       "            justify-content: flex-start;\n",
       "            width: 100%;\n",
       "        }\n",
       "        .wandb-col {\n",
       "            display: flex;\n",
       "            flex-direction: column;\n",
       "            flex-basis: 100%;\n",
       "            flex: 1;\n",
       "            padding: 10px;\n",
       "        }\n",
       "    </style>\n",
       "<div class=\"wandb-row\"><div class=\"wandb-col\"><h3>Run history:</h3><br/><table class=\"wandb\"><tr><td>epoch</td><td>▁▁</td></tr><tr><td>train_avg_acc</td><td>▁</td></tr><tr><td>train_loss</td><td>▁</td></tr><tr><td>train_school_acc</td><td>▁</td></tr><tr><td>train_type_acc</td><td>▁</td></tr><tr><td>val_avg_acc</td><td>▁</td></tr><tr><td>val_loss</td><td>▁</td></tr><tr><td>val_school_acc</td><td>▁</td></tr><tr><td>val_type_acc</td><td>▁</td></tr></table><br/></div><div class=\"wandb-col\"><h3>Run summary:</h3><br/><table class=\"wandb\"><tr><td>epoch</td><td>0</td></tr><tr><td>train_avg_acc</td><td>0.43104</td></tr><tr><td>train_loss</td><td>1.95743</td></tr><tr><td>train_school_acc</td><td>0.28388</td></tr><tr><td>train_type_acc</td><td>0.57821</td></tr><tr><td>val_avg_acc</td><td>0.44153</td></tr><tr><td>val_loss</td><td>1.90849</td></tr><tr><td>val_school_acc</td><td>0.2666</td></tr><tr><td>val_type_acc</td><td>0.61646</td></tr></table><br/></div></div>"
      ],
      "text/plain": [
       "<IPython.core.display.HTML object>"
      ]
     },
     "metadata": {},
     "output_type": "display_data"
    },
    {
     "data": {
      "text/html": [
       " View run <strong style=\"color:#cdcd00\">ResNet18-FineTuningTry2</strong> at: <a href='https://wandb.ai/olteanirina1-babes-bolyai-university/FESemArtDataset/runs/4zygo8iz' target=\"_blank\">https://wandb.ai/olteanirina1-babes-bolyai-university/FESemArtDataset/runs/4zygo8iz</a><br/> View project at: <a href='https://wandb.ai/olteanirina1-babes-bolyai-university/FESemArtDataset' target=\"_blank\">https://wandb.ai/olteanirina1-babes-bolyai-university/FESemArtDataset</a><br/>Synced 5 W&B file(s), 0 media file(s), 0 artifact file(s) and 0 other file(s)"
      ],
      "text/plain": [
       "<IPython.core.display.HTML object>"
      ]
     },
     "metadata": {},
     "output_type": "display_data"
    },
    {
     "data": {
      "text/html": [
       "Find logs at: <code>.\\wandb\\run-20241208_233946-4zygo8iz\\logs</code>"
      ],
      "text/plain": [
       "<IPython.core.display.HTML object>"
      ]
     },
     "metadata": {},
     "output_type": "display_data"
    }
   ],
   "source": [
    "wandb.finish()"
   ]
  },
  {
   "cell_type": "code",
   "execution_count": 33,
   "metadata": {},
   "outputs": [
    {
     "name": "stderr",
     "output_type": "stream",
     "text": [
      "Test Evaluation: 100%|██████████| 34/34 [00:37<00:00,  1.11s/it]\n"
     ]
    },
    {
     "name": "stdout",
     "output_type": "stream",
     "text": [
      "Test Loss: 2.2091\n",
      "SCHOOL Test Accuracy: 0.4930\n",
      "TYPE Test Accuracy: 0.7100\n"
     ]
    }
   ],
   "source": [
    "from tqdm import tqdm\n",
    "\n",
    "test_loss = 0.0\n",
    "test_corrects_school = 0\n",
    "test_corrects_type = 0\n",
    "\n",
    "with torch.no_grad():\n",
    "    for inputs, school_labels, type_labels in tqdm(dataloaders['test'], desc=\"Test Evaluation\"):\n",
    "        inputs = inputs.to(device)\n",
    "        school_labels = school_labels.to(device)\n",
    "        type_labels = type_labels.to(device)\n",
    "\n",
    "        outputs = resnet18_ft(inputs)\n",
    "        outputs_school = outputs[:, :num_classes_school]\n",
    "        outputs_type = outputs[:, num_classes_school:]\n",
    "\n",
    "        loss_school = criterion_school(outputs_school, school_labels)\n",
    "        loss_type = criterion_type(outputs_type, type_labels)\n",
    "        loss = 0.5 * loss_school + 0.5 * loss_type\n",
    "\n",
    "        _, preds_school = torch.max(outputs_school, 1)\n",
    "        _, preds_type = torch.max(outputs_type, 1)\n",
    "\n",
    "        test_loss += loss.item() * inputs.size(0)\n",
    "        test_corrects_school += torch.sum(preds_school == school_labels.data)\n",
    "        test_corrects_type += torch.sum(preds_type == type_labels.data)\n",
    "\n",
    "test_loss /= dataset_sizes['test']\n",
    "test_acc_school = test_corrects_school.double() / dataset_sizes['test']\n",
    "test_acc_type = test_corrects_type.double() / dataset_sizes['test']\n",
    "\n",
    "print(f\"Test Loss: {test_loss:.4f}\")\n",
    "print(f\"SCHOOL Test Accuracy: {test_acc_school:.4f}\")\n",
    "print(f\"TYPE Test Accuracy: {test_acc_type:.4f}\")"
   ]
  }
 ],
 "metadata": {
  "accelerator": "TPU",
  "colab": {
   "gpuType": "V28",
   "provenance": []
  },
  "kernelspec": {
   "display_name": "cudatest",
   "language": "python",
   "name": "python3"
  },
  "language_info": {
   "codemirror_mode": {
    "name": "ipython",
    "version": 3
   },
   "file_extension": ".py",
   "mimetype": "text/x-python",
   "name": "python",
   "nbconvert_exporter": "python",
   "pygments_lexer": "ipython3",
   "version": "3.8.20"
  }
 },
 "nbformat": 4,
 "nbformat_minor": 4
}
